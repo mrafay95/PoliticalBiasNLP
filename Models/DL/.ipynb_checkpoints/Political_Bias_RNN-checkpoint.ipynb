{
 "cells": [
  {
   "cell_type": "markdown",
   "metadata": {
    "id": "9TnJztDZGw-n"
   },
   "source": [
    "# Detecting Political Bias with an RNN"
   ]
  },
  {
   "cell_type": "markdown",
   "metadata": {
    "id": "_2VQo4bajwUU"
   },
   "source": [
    "## Setup"
   ]
  },
  {
   "cell_type": "code",
   "execution_count": 2,
   "metadata": {
    "execution": {
     "iopub.execute_input": "2020-11-10T02:40:17.842796Z",
     "iopub.status.busy": "2020-11-10T02:40:17.842105Z",
     "iopub.status.idle": "2020-11-10T02:40:24.418420Z",
     "shell.execute_reply": "2020-11-10T02:40:24.418864Z"
    },
    "id": "z682XYsrjkY9"
   },
   "outputs": [
    {
     "data": {
      "text/plain": [
       "'2.3.0'"
      ]
     },
     "execution_count": 2,
     "metadata": {},
     "output_type": "execute_result"
    }
   ],
   "source": [
    "import pathlib\n",
    "import os\n",
    "\n",
    "import numpy as np\n",
    "import tensorflow as tf\n",
    "from tensorflow.keras import utils\n",
    "\n",
    "from tensorflow.keras import preprocessing\n",
    "\n",
    "tf.__version__\n"
   ]
  },
  {
   "cell_type": "markdown",
   "metadata": {
    "id": "1rXHa-w9JZhb"
   },
   "source": [
    "Import `matplotlib` and create a helper function to plot graphs:"
   ]
  },
  {
   "cell_type": "code",
   "execution_count": 213,
   "metadata": {
    "execution": {
     "iopub.execute_input": "2020-11-10T02:40:24.424875Z",
     "iopub.status.busy": "2020-11-10T02:40:24.424198Z",
     "iopub.status.idle": "2020-11-10T02:40:24.426540Z",
     "shell.execute_reply": "2020-11-10T02:40:24.426024Z"
    },
    "id": "Mp1Z7P9pYRSK"
   },
   "outputs": [],
   "source": [
    "import matplotlib.pyplot as plt\n",
    "\n",
    "def plot_graphs(history, metric):\n",
    "  plt.plot(history.history[metric])\n",
    "  plt.plot(history.history['val_'+metric], '')\n",
    "  plt.xlabel(\"Epochs\")\n",
    "  plt.ylabel(metric)\n",
    "  plt.legend([metric, 'val_'+ metric])"
   ]
  },
  {
   "cell_type": "markdown",
   "metadata": {
    "id": "pRmMubr0jrE2"
   },
   "source": [
    "## Setup input pipeline\n",
    "\n",
    "\n"
   ]
  },
  {
   "cell_type": "code",
   "execution_count": 5,
   "metadata": {
    "execution": {
     "iopub.execute_input": "2020-11-10T02:40:24.431518Z",
     "iopub.status.busy": "2020-11-10T02:40:24.430866Z",
     "iopub.status.idle": "2020-11-10T02:41:19.248959Z",
     "shell.execute_reply": "2020-11-10T02:41:19.249452Z"
    },
    "id": "SHRwRoP2nVHX"
   },
   "outputs": [
    {
     "name": "stdout",
     "output_type": "stream",
     "text": [
      "/Users/muhammadrafay/Desktop/UIUC/Fall2020/CS410_Text_Information_Systems/Final Project/Political_Bias_NLP/Data/TensorFormat\n"
     ]
    },
    {
     "data": {
      "text/plain": [
       "['Right', '.DS_Store', 'Left']"
      ]
     },
     "execution_count": 5,
     "metadata": {},
     "output_type": "execute_result"
    }
   ],
   "source": [
    "cwd = os.getcwd()\n",
    "dataset_dir = pathlib.Path(cwd).parent.parent/'Data'/'TensorFormat'\n",
    "print(dataset_dir)\n",
    "\n",
    "list(dataset_dir.iterdir())\n",
    "\n",
    "os.listdir(dataset_dir)\n",
    "\n"
   ]
  },
  {
   "cell_type": "code",
   "execution_count": 12,
   "metadata": {},
   "outputs": [
    {
     "name": "stdout",
     "output_type": "stream",
     "text": [
      "/Users/muhammadrafay/Desktop/UIUC/Fall2020/CS410_Text_Information_Systems/Final Project/Political_Bias_NLP/Data/Labeled_Data/Left/Left.txt\n",
      "Will Mike Pence Be Trump’s Bridge to Democrats?\n",
      "\n",
      "The GOP’s Favorite Democrat Goes to Syria\n",
      "\n",
      "House Republicans and Democrats Represent Divergent Americas\n",
      "\n",
      "Are Trump’s Generals Mounting a Defense of Democratic Institutions?\n",
      "\n",
      "How Progressives Are Forcing Senate Democrats Into Action\n",
      "\n",
      "The Atlantic  Politics & Policy Daily: Senate Democrats Stay Up Late on a School Night\n",
      "\n",
      "Democrats Want Answers on Trump Officials’ Ties to Russia\n",
      "\n",
      "Can the Democratic Party Win Back Voters It Lost to Trump? \n",
      "\n",
      "The Democrats Have Their Chairman\n",
      "\n",
      "Why the Battle for Leadership of the Democratic Party Mattered\n",
      "\n",
      "Trump’s Budget Proposal Threatens Democratic and Republican Ambitions\n",
      "\n",
      "Can Millennials Save the Democratic Party?\n",
      "\n",
      "Why Are Democrats Holding Back on Gorsuch?\n",
      "\n",
      "Democrats Go to War Over Neil Gorsuch\n",
      "\n",
      "Trump’s Support From Democrats on Syria\n",
      "\n",
      "The Districts Where Democrats Might Find the Next Georgia 6\n",
      "\n",
      "Rifts Over Abortion and Economic Populism Threaten to Divide Democrats \n",
      "\n",
      "How Democrats Learned to Love Trump’s Negotiating Style \n",
      "\n",
      "Is There Any Room in the ’Big Tent’ for Pro-Life Democrats?\n",
      "\n",
      "Will Democrats Shut Down the Government Over Obamacare?\n",
      "\n",
      "Why Do So Many Americans Think Democrats Are Out of Touch?\n",
      "\n",
      "The Governor’s Race on Track to Give Democrats a Decisive Victory\n",
      "\n",
      "What If Bernie Sanders Is the Democrats’ Best Bet?\n",
      "\n",
      "The Atlantic Daily: After the Snowstorm, Democratic Presidential Race, Super Bowl Teams\n",
      "\n",
      "Can Democrats Get Republicans to Move on Scalia’s Replacement?\n",
      "\n",
      "Live Coverage of the Democratic Debate\n",
      "\n",
      "A Democratic Showdown in Brooklyn\n",
      "\n",
      "The Democrats’ Most Substantive Climate Debate Yet\n",
      "\n",
      "What Democratic Landslide?\n",
      "\n",
      "Is the Democratic Primary Really Rigged? \n",
      "\n",
      "The Democratic Wingman of the Democratic Party\n",
      "\n",
      "A Win for Early Voting—and Democrats—in Ohio\n",
      "\n",
      "An Awkward Reality in the Democratic Primary\n",
      "\n",
      "Hillary Clinton Has Enough Delegates to Claim the Democratic Nomination\n",
      "\n",
      "Is the Democratic Race Really Over?\n",
      "\n",
      "House Democrats Try to Force Another Vote on Zika \n",
      "\n",
      "Pennsylvania Democrat Chaka Fattah Found Guilty \n",
      "\n",
      "Democrats Fight Back on Gun Control\n",
      "\n",
      "When House Democrats Turned Out the Lights on Republicans\n",
      "\n",
      "The Edge: Supremes Split, Democrats Sit\n",
      "\n",
      "Civics Lessons From the House Democrats’ Sit-In\n",
      "\n",
      "House Democrats Take a Milder Approach on Gun Control\n",
      "\n",
      "An Early Democratic Convention Lineup\n",
      "\n",
      "Turkey’s Putsch and the Democratic Dilemma\n",
      "\n",
      "The Democrat That Republicans Really Fear Most\n",
      "\n",
      "A Family Affair at the Democratic National Convention\n",
      "\n",
      "All Hell Breaks Loose at the Democratic Convention\n",
      "\n",
      "The Atlantic Daily: Japan Knife Attack, Democratic Convention, Harassment in Science\n",
      "\n",
      "Donald Trump’s Threats Against Minorities Are Unifying Democrats\n",
      "\n",
      "A Second Cyber Attack Hits the Democratic Party\n",
      "\n",
      "The Democrats Clean House\n",
      "\n",
      "No One Is Doing More For Democratic Turnout Than Donald Trump\n",
      "\n",
      "How Democrats Become the Conservative Party \n",
      "\n",
      "Democrats Are Pushing to Use Tax Dollars to Pay for Abortions\n",
      "\n",
      "Friday Night Lights Democratized TV Drama\n",
      "\n",
      "Will Democrats Try to Tie the GOP to Trump? Would It Work?\n",
      "\n",
      "How Democrats Killed Their Populist Soul\n",
      "\n",
      "How James Comey Hurt the FBI—and the Democratic Process\n",
      "\n",
      "Does the Democratic Party Have a Future?\n",
      "\n",
      "The Feedback Loop of Doom for Democratic Norms\n",
      "\n",
      "’An Erosion of Democratic Norms in America’\n",
      "\n",
      " Democrats Don’t Have an Easy Answer for the Rust Belt\n",
      "\n",
      "Nancy Pelosi Wins Another Term as Democratic Leader\n",
      "\n",
      "Will Democrats Miss Their Last Chance to Win a Senate Seat? \n",
      "\n",
      "Keith Ellison and the Battle for the Democratic Party\n",
      "\n",
      "Are Democrats Wasting Their Time Taking On the Electoral College?\n",
      "\n",
      "Democrats Plan Fight to Save Obamacare\n",
      "\n",
      "More Americans Look to Congressional Democrats Than to Trump for Solutions\n",
      "\n",
      "Democrats: Trump Must Divest From His Hotel or Breach His Lease\n",
      "\n",
      "Democrats Have a Religion Problem \n",
      "\n",
      "title\n",
      "\n",
      "If Democrats delay action on Trump nominees, America suffers\n",
      "\n",
      "Obama tells Democrats: ’Don’t rescue’ Republicans on ’Trumpcare’\n",
      "\n",
      "These Democrats aren’t attending Trump’s inauguration\n",
      "\n",
      "Democrats already are trying to get out the vote for 2020\n",
      "\n",
      "Democrats vow to fight Trump’s plans to repeal Obamacare\n",
      "\n",
      "Medicaid takes center stage as Democrats grill Tom Price  \n",
      "\n",
      "Democrats protest Trump’s travel ban outside Supreme Court\n",
      "\n",
      "Democrats face their powerlessness\n",
      "\n",
      "Is anti-Trump furor papering over Democrats’ working-class woes? \n",
      "\n",
      "Democratic base leading the way for would-be party leaders\n",
      "\n",
      "Democratic senator: We may flip another GOP vote on DeVos\n",
      "\n",
      "The Democrats fighting the legal battles against Trump\n",
      "\n",
      "Democrats, advocates question ICE enforcement raids\n",
      "\n",
      "Democratic divisions on display at DNC debate\n",
      "\n",
      "Democrats: WH contact with FBI an ’outrageous breach of the FBI’s independence’\n",
      "\n",
      "Democratic women wear white to Trump’s address\n",
      "\n",
      "Cyberattack hits PA Democrats’ computers\n",
      "\n",
      "Democrats call for special counsel during hearing for Sessions’ would-be deputy\n",
      "\n",
      "Amazon bestseller: 266 blank pages on why to vote Democrat\n",
      "\n",
      "How CBO report could help Democrats beat Trump\n",
      "\n",
      "Gorsuch touts family, roots while Democrats revisit Garland snub\n",
      "\n",
      "Durbin: Gorsuch lacks necessary Democratic support\n",
      "\n",
      "GOP, you need to make friends with Democrats\n",
      "\n",
      "Lindsey Graham on health care: Republicans and Democrats need to work together\n",
      "\n",
      "Kasich: Trump needs to work with Democrats on health care\n",
      "\n",
      "Inscrutable Gorsuch raises Democratic ire\n",
      "\n",
      "Republicans, Democrats hold dueling events as Gorsuch vote looms\n",
      "\n",
      "Paul Ryan: I don’t want to work with Democrats on health care\n",
      "\n",
      "Sanders criticizes Clinton campaign, Democrats at Boston rally\n",
      "\n",
      "House Democrat calls bid to unseat Cruz key to flipping Senate\n",
      "\n",
      "Why everyone is waiting to hear from these Democrats on Neil Gorsuch\n",
      "\n",
      "Democrats have zero leverage after Gorsuch \n",
      "\n",
      "Democrats needed a win. They didn’t get one in Georgia.\n",
      "\n",
      "Democrats’ ’unity tour’ is highlighting their many divisions \n",
      "\n",
      "Hillary Clinton doesn’t deserve all the blame for Democrats’ failure\n",
      "\n",
      "Democrats open to more border security money \n",
      "\n",
      "This poll number should scare Democrats\n",
      "\n",
      "Democrats’ Senate math problem\n",
      "\n",
      "Don’t lose your focus, Democrats\n",
      "\n",
      "Democrats, don’t get too giddy about 2018\n",
      "\n",
      "Trump: Russian meddling story an ’excuse’ for why Democrats lost\n",
      "\n",
      "Democrats set for first view of potential 2020 candidates\n",
      "\n",
      "Cupp: Democrats will definitely turn on Mueller\n",
      "\n",
      "How Greg Gianforte’s body slam might save a Democratic Senate seat in Montana\n",
      "\n",
      "Democrats furious at evasive answers at hearing\n",
      "\n",
      "Democrats pounce on Handel for ’livable wage’ remark\n",
      "\n",
      "Sanders to faithful: Take down Trump, take over Democratic Party\n",
      "\n",
      "Democrats end House sit-in protest over gun control\n",
      "\n",
      "Clinton campaign hails Democratic platform\n",
      "\n",
      "Democrats block $1.1 billion Zika bill\n",
      "\n",
      "Democrats call for end to death penalty\n",
      "\n",
      "House Democrats will oppose GOP gun bill\n",
      "\n",
      "First on CNN: House Democrats bracket Ryan with cable ad buy  \n",
      "\n",
      "Democrats to counter GOP’s convention message\n",
      "\n",
      "The West should embrace Turkey’s democratic resistance\n",
      "\n",
      "6 takeaways from Wednesday night at the Democratic Convention\n",
      "\n",
      "10 takeaways from the Democratic convention\n",
      "\n",
      "Democrats review Clinton’s convention message \n",
      "\n",
      "The Democrats’ Republican moment\n",
      "\n",
      "How Democrats can resolve identity crisis\n",
      "\n",
      "Hacker releases cell phone numbers, personal emails of House Democrats\n",
      "\n",
      "Democrats face simmering internal tensions \n",
      "\n",
      "Democrats hit GOP candidate in Nevada over Trump support\n",
      "\n",
      "Pence says he’s getting ’whiff of desperation’ from Democrats\n",
      "\n",
      "FBI investigating possible hack of Democratic Party staffer cell phones\n",
      "\n",
      "Democrats gain registration edge in Colorado\n",
      "\n",
      "Democrats seek to punish GOP Senate candidates over Trump audio\n",
      "\n",
      "James Comey: The man Democrats and Republicans hate\n",
      "\n",
      "Tear up the Democratic Party\n",
      "\n",
      "Ayotte concedes to Democrat Maggie Hassan\n",
      "\n",
      "Pelosi likely to remain top House Democrat\n",
      "\n",
      "Democrats try to pick up the pieces\n",
      "\n",
      "Democrats, we need this new direction\n",
      "\n",
      "Democrats hope Trump meets his match in Schumer\n",
      "\n",
      "Democrats want Russian hacking intelligence declassified\n",
      "\n",
      "Lindsey Graham, Democrats plan probes of hacking\n",
      "\n",
      "Poll: Democrats want someone new for 2020\n",
      "\n",
      "Democrats target HHS nominee’s health industry stock trades\n",
      "\n",
      "McConnell: No Lynch vote unless Democrats relent on bill\n",
      "\n",
      "Rep. King: U.S. Jews are Democrats first, Jewish second\n",
      "\n",
      "Can this Democrat really beat Hillary Clinton?\n",
      "\n",
      "Democratic Rep. Kirkpatrick to challenge John McCain\n",
      "\n",
      "Obamacare ruling a time bomb for Democrats\n",
      "\n",
      "Democratic candidates: The more the merrier\n",
      "\n",
      "Democrats fret unions’ pressure tactics on trade\n",
      "\n",
      "Lame duck: Democrats clip Obama’s wings\n",
      "\n",
      "Democrats hone name-free Clinton attacks\n",
      "\n",
      "Democrats block debate on highway bill\n",
      "\n",
      "White House sees Democrats lining up on Iran\n",
      "\n",
      "CNN to host first Democratic presidential debate\n",
      "\n",
      "title\n",
      "\n",
      "Democrat Martin O’Malley fails to qualify for Ohio’s primary ballot\n",
      "\n",
      "Obama will not endorse candidate in Democratic primary race\n",
      "\n",
      "AP Fact Check: Democratic debaters and the facts\n",
      "\n",
      "How the Iowa Democratic and Republican caucuses work\n",
      "\n",
      "Iowa Democrats stonewalling on vote totals, but past numbers were available\n",
      "\n",
      "Hillary vs Bernie: Democratic debate highlights big divide between two rivals\n",
      "\n",
      "Does Bernie Sanders really want to win? Three Democratic debate takeaways\n",
      "\n",
      " November preview? Turnout surging in Republican primaries – and sinking for Democrats\n",
      "\n",
      "Labor unions gave $420 million to Democrats, left-wing groups from 2012-14, report shows\n",
      "\n",
      "Clinton agrees to Fox News’ town hall on Monday with fellow Democratic presidential candidate Sanders\n",
      "\n",
      "Transcript of the Fox News Democratic presidential  town hall\n",
      "\n",
      "Clinton wins Northern Mariana Islands Democratic caucus\n",
      "\n",
      "Democratic lawmakers launch blast at inspectors general in Clinton email probe\n",
      "\n",
      "Sanders concedes Missouri Democratic primary; Clinton wins\n",
      "\n",
      "Sanders projected to win Washington, Alaska Democratic presidential caucuses\n",
      "\n",
      "Clinton, Sanders agree to Democratic debate in Brooklyn before New York primary\n",
      "\n",
      "Ethics report: Florida Democrat Grayson likely violated House rules\n",
      "\n",
      "Sanders wins Wyoming Democratic caucuses, Cruz taking Colorado delegates\n",
      "\n",
      "Clinton campaign, Democratic Party sue Arizona over primary voting problems\n",
      "\n",
      "Sanders scores upset victory in Indiana Democratic primary\n",
      "\n",
      "Nevada Democratic Convention becomes ’unruly and unpredictable’ amid rules disputes over delegates \n",
      "\n",
      "Oregon Democratic primary structure may work against Sanders\n",
      "\n",
      "Nevada unrest sparks Democratic concerns about convention, party chaos\n",
      "\n",
      "Democrats reportedly discuss dropping DNC chair Wasserman Schultz\n",
      "\n",
      "Sanders warns Democratic National Convention could be ’messy’\n",
      "\n",
      "Race narrows in California Democratic primary race, poll finds\n",
      "\n",
      "Clinton has delegates to win Democratic nomination, AP reports\n",
      "\n",
      "Sanders campaign reportedly divided over whether to take fight to Democratic convention\n",
      "\n",
      "Clinton clinches Democratic nomination, wins NJ primary, Fox News projects\n",
      "\n",
      "Democrats heckle Ryan on House floor day after Orlando nightclub massacre\n",
      "\n",
      "State Democratic parties aim to dismantle superdelegate system\n",
      "\n",
      "Sanders says ’it doesn’t appear’ he will be Democratic nominee\n",
      "\n",
      "Democrats approve platform draft with Sanders’ imprint\n",
      "\n",
      "Democratic draft platform seeks DOJ probe of fossil fuel companies\n",
      "\n",
      "FEC Democrats tried to punish Fox News over debate changes, files show\n",
      "\n",
      "Who in their right mind would plagiarize a Democrat’s speech?\n",
      "\n",
      "Sanders to meet with delegates before start of Democratic convention\n",
      "\n",
      "Protesters march on Democratic National Convention\n",
      "\n",
      "Bernie Sanders got done in by dirty Debbie and the Democrats\n",
      "\n",
      "Donald Trump hosts Reddit ’Ask Me Anything’ during Democratic Convention\n",
      "\n",
      "Angst in Bernie ranks over push to exit Democratic Party \n",
      "\n",
      "Convention host state no sure bet for Democrats\n",
      "\n",
      "Clinton accepts Democratic nomination, says 2016 ’choice is clear’\n",
      "\n",
      "What are the chances the Democrats will steal the election?\n",
      "\n",
      "Trump says Clinton, Democrats have ’failed and betrayed’ African-Americans after Milwaukee riots\n",
      "\n",
      "Facing Trump, Democrats could have their own 1994 landslide, but numbers appear against them\n",
      "\n",
      "Latest fed reports show Democratic donors step up efforts on Senate, Clinton bids\n",
      "\n",
      "Clinton campaign pushes Democratic party stars to shore up youth vote\n",
      "\n",
      "Clinton campaigns for downballot Democrats in campaign’s final days\n",
      "\n",
      "Democratic candidate for governor in West Virginia owes millions in taxes\n",
      "\n",
      "Lynch, Justice opposed Comey’s Clinton email letter; Democrats in Senate demand answers\n",
      "\n",
      "Schoen: I’m a Democrat, and I worked for Bill Clinton, but I can’t vote for Hillary\n",
      "\n",
      "Philly transit strike could cause Clinton, Democrats headaches\n",
      "\n",
      "Trump presses into Democrat territory in final stretch \n",
      "\n",
      "Doug Schoen: What Trump’s incredible victory means for Democrats (it may surprise you)\n",
      "\n",
      "Democrats regroup as they grapple with Trump’s victory\n",
      "\n",
      "Michael Moore to Democrats: I told you Trump was going to win\n",
      "\n",
      "Bernie Sanders ’humiliated’ Democrats can’t talk to ’white working class’ voters\n",
      "\n",
      "Trump meets with school reformer, Democrat Michelle Rhee with education secretary post still open\n",
      "\n",
      "100 percent of Consumer Financial Protection Bureau’s donations went to Democrats\n",
      "\n",
      "I’m a Democrat. Here’s how Hillary and the recount campaign leaves me feeling\n",
      "\n",
      "I’m a Democrat and I’m ashamed at how tone deaf we’ve become\n",
      "\n",
      "I’m a Democrat but I’ve gotta admit it’s now Trump 2, Dems 0\n",
      "\n",
      "I’m a Democrat but Clinton staffer Jennifer Palmieri’s twisted logic is exactly why we lost\n",
      "\n",
      "Democrats hound Trump over closure of foundation\n",
      "\n",
      "title\n",
      "\n",
      "Democrat Martin O’Malley fails to qualify for Ohio’s primary ballot\n",
      "\n",
      "Obama will not endorse candidate in Democratic primary race\n",
      "\n",
      "AP Fact Check: Democratic debaters and the facts\n",
      "\n",
      "How the Iowa Democratic and Republican caucuses work\n",
      "\n",
      "Iowa Democrats stonewalling on vote totals, but past numbers were available\n",
      "\n",
      "Hillary vs Bernie: Democratic debate highlights big divide between two rivals\n",
      "\n",
      "Does Bernie Sanders really want to win? Three Democratic debate takeaways\n",
      "\n",
      " November preview? Turnout surging in Republican primaries – and sinking for Democrats\n",
      "\n",
      "Labor unions gave $420 million to Democrats, left-wing groups from 2012-14, report shows\n",
      "\n",
      "Clinton agrees to Fox News’ town hall on Monday with fellow Democratic presidential candidate Sanders\n",
      "\n",
      "Transcript of the Fox News Democratic presidential  town hall\n",
      "\n",
      "Clinton wins Northern Mariana Islands Democratic caucus\n",
      "\n",
      "Democratic lawmakers launch blast at inspectors general in Clinton email probe\n",
      "\n",
      "Sanders concedes Missouri Democratic primary; Clinton wins\n",
      "\n",
      "Sanders projected to win Washington, Alaska Democratic presidential caucuses\n",
      "\n",
      "Clinton, Sanders agree to Democratic debate in Brooklyn before New York primary\n",
      "\n",
      "Ethics report: Florida Democrat Grayson likely violated House rules\n",
      "\n",
      "Sanders wins Wyoming Democratic caucuses, Cruz taking Colorado delegates\n",
      "\n",
      "Clinton campaign, Democratic Party sue Arizona over primary voting problems\n",
      "\n",
      "Sanders scores upset victory in Indiana Democratic primary\n",
      "\n",
      "Nevada Democratic Convention becomes ’unruly and unpredictable’ amid rules disputes over delegates \n",
      "\n",
      "Oregon Democratic primary structure may work against Sanders\n",
      "\n",
      "Nevada unrest sparks Democratic concerns about convention, party chaos\n",
      "\n",
      "Democrats reportedly discuss dropping DNC chair Wasserman Schultz\n",
      "\n",
      "Sanders warns Democratic National Convention could be ’messy’\n",
      "\n",
      "Race narrows in California Democratic primary race, poll finds\n",
      "\n",
      "Clinton has delegates to win Democratic nomination, AP reports\n",
      "\n",
      "Sanders campaign reportedly divided over whether to take fight to Democratic convention\n",
      "\n",
      "Clinton clinches Democratic nomination, wins NJ primary, Fox News projects\n",
      "\n",
      "Democrats heckle Ryan on House floor day after Orlando nightclub massacre\n",
      "\n",
      "State Democratic parties aim to dismantle superdelegate system\n",
      "\n",
      "Sanders says ’it doesn’t appear’ he will be Democratic nominee\n",
      "\n",
      "Democrats approve platform draft with Sanders’ imprint\n",
      "\n",
      "Democratic draft platform seeks DOJ probe of fossil fuel companies\n",
      "\n",
      "FEC Democrats tried to punish Fox News over debate changes, files show\n",
      "\n",
      "Who in their right mind would plagiarize a Democrat’s speech?\n",
      "\n",
      "Sanders to meet with delegates before start of Democratic convention\n",
      "\n",
      "Protesters march on Democratic National Convention\n",
      "\n",
      "Bernie Sanders got done in by dirty Debbie and the Democrats\n",
      "\n",
      "Donald Trump hosts Reddit ’Ask Me Anything’ during Democratic Convention\n",
      "\n",
      "Angst in Bernie ranks over push to exit Democratic Party \n",
      "\n",
      "Convention host state no sure bet for Democrats\n",
      "\n",
      "Clinton accepts Democratic nomination, says 2016 ’choice is clear’\n",
      "\n",
      "What are the chances the Democrats will steal the election?\n",
      "\n",
      "Trump says Clinton, Democrats have ’failed and betrayed’ African-Americans after Milwaukee riots\n",
      "\n",
      "Facing Trump, Democrats could have their own 1994 landslide, but numbers appear against them\n",
      "\n",
      "Latest fed reports show Democratic donors step up efforts on Senate, Clinton bids\n",
      "\n",
      "Clinton campaign pushes Democratic party stars to shore up youth vote\n",
      "\n",
      "Clinton campaigns for downballot Democrats in campaign’s final days\n",
      "\n",
      "Democratic candidate for governor in West Virginia owes millions in taxes\n",
      "\n",
      "Lynch, Justice opposed Comey’s Clinton email letter; Democrats in Senate demand answers\n",
      "\n",
      "Schoen: I’m a Democrat, and I worked for Bill Clinton, but I can’t vote for Hillary\n",
      "\n",
      "Philly transit strike could cause Clinton, Democrats headaches\n",
      "\n",
      "Trump presses into Democrat territory in final stretch \n",
      "\n",
      "Doug Schoen: What Trump’s incredible victory means for Democrats (it may surprise you)\n",
      "\n",
      "Democrats regroup as they grapple with Trump’s victory\n",
      "\n",
      "Michael Moore to Democrats: I told you Trump was going to win\n",
      "\n",
      "Bernie Sanders ’humiliated’ Democrats can’t talk to ’white working class’ voters\n",
      "\n",
      "Trump meets with school reformer, Democrat Michelle Rhee with education secretary post still open\n",
      "\n",
      "100 percent of Consumer Financial Protection Bureau’s donations went to Democrats\n",
      "\n",
      "I’m a Democrat. Here’s how Hillary and the recount campaign leaves me feeling\n",
      "\n",
      "I’m a Democrat and I’m ashamed at how tone deaf we’ve become\n",
      "\n",
      "I’m a Democrat but I’ve gotta admit it’s now Trump 2, Dems 0\n",
      "\n",
      "I’m a Democrat but Clinton staffer Jennifer Palmieri’s twisted logic is exactly why we lost\n",
      "\n",
      "Democrats hound Trump over closure of foundation\n",
      "\n",
      "\n",
      "\n"
     ]
    }
   ],
   "source": [
    "#Format Left\n",
    "\n",
    "cwd = os.getcwd()\n",
    "\n",
    "left_dir = pathlib.Path.joinpath(dataset_dir.parent, \"Labeled_Data/Left/Left.txt\")\n",
    "print(left_dir)\n",
    "f = open(left_dir, \"r\")\n",
    "for x in f:\n",
    "  print(x)\n",
    "\n",
    "\n"
   ]
  },
  {
   "cell_type": "code",
   "execution_count": 215,
   "metadata": {},
   "outputs": [
    {
     "name": "stdout",
     "output_type": "stream",
     "text": [
      "/Users/muhammadrafay/Desktop/UIUC/Fall2020/CS410_Text_Information_Systems/Final Project/Political_Bias_NLP/Data/TensorFormat\n",
      "Found 579 files belonging to 2 classes.\n",
      "<BatchDataset shapes: ((None,), (None,)), types: (tf.string, tf.int32)>\n"
     ]
    }
   ],
   "source": [
    "batch_size = 16\n",
    "seed = 42\n",
    "\n",
    "print(dataset_dir)\n",
    "\n",
    "\n",
    "\n",
    "raw_train_ds = preprocessing.text_dataset_from_directory(\n",
    "    dataset_dir,\n",
    "    batch_size=batch_size,\n",
    "    #validation_split=0.20,\n",
    "    #subset='training',\n",
    "    seed=seed)\n",
    "\n",
    "\n",
    "print(raw_train_ds)"
   ]
  },
  {
   "cell_type": "code",
   "execution_count": 216,
   "metadata": {},
   "outputs": [
    {
     "name": "stdout",
     "output_type": "stream",
     "text": [
      "Question:  b'Can Trump Divide and Conquer the Republican Establishment?\\n' ...\n",
      "Label: 1\n",
      "Question:  b'Sanders wins Wyoming Democratic caucuses, Cruz taking Colorado delegates\\n' ...\n",
      "Label: 0\n",
      "Question:  b'Which Republicans Oppose Donald Trump? A Cheat Sheet\\n' ...\n",
      "Label: 1\n",
      "Question:  b'CNN fact checks the 2016 Republican debates\\n' ...\n",
      "Label: 1\n",
      "Question:  b'Can Democrats Get Republicans to Move on Scalia\\xe2\\x80\\x99s Replacement?\\n' ...\n",
      "Label: 0\n",
      "Question:  b'Ethics report: Florida Democrat Grayson likely violated House rules\\n' ...\n",
      "Label: 0\n",
      "Question:  b'This poll number should scare Democrats\\n' ...\n",
      "Label: 0\n",
      "Question:  b'Why Won\\xe2\\x80\\x99t More Republicans Privately Voting for Clinton Say So in Public?\\n' ...\n",
      "Label: 1\n",
      "Question:  b'Which Republicans Oppose Donald Trump? A Cheat Sheet\\n' ...\n",
      "Label: 1\n",
      "Question:  b'Republicans seize on State Department audit to challenge Clinton\\xe2\\x80\\x99s repeated claims on emails\\n' ...\n",
      "Label: 1\n",
      "Question:  b'Democrats Want Answers on Trump Officials\\xe2\\x80\\x99 Ties to Russia\\n' ...\n",
      "Label: 0\n",
      "Question:  b'Ernst: Republican Congress to lead U.S. in new direction\\n' ...\n",
      "Label: 1\n",
      "Question:  b'Does the Democratic Party Have a Future?\\n' ...\n",
      "Label: 0\n",
      "Question:  b'Core Republicans throw support to Rubio as best bet to derail Trump\\n' ...\n",
      "Label: 1\n",
      "Question:  b'Lifelong Republican to Speaker Ryan: Obamacare saved my life      \\n' ...\n",
      "Label: 1\n",
      "Question:  b'How Greg Gianforte\\xe2\\x80\\x99s body slam might save a Democratic Senate seat in Montana\\n' ...\n",
      "Label: 0\n",
      "Question:  b'The Atlantic  Politics & Policy Daily: Republican Leaders to Donald Trump\\xe2\\x80\\x94We Need to Talk\\n' ...\n",
      "Label: 1\n",
      "Question:  b'Democrats end House sit-in protest over gun control\\n' ...\n",
      "Label: 0\n",
      "Question:  b'Which Republicans are opposing the Obamacare repeal bill?\\n' ...\n",
      "Label: 1\n",
      "Question:  b'Obama rips \\xe2\\x80\\x99doom and despair\\xe2\\x80\\x99 Republicans on economy, defends oil tax\\n' ...\n",
      "Label: 1\n"
     ]
    }
   ],
   "source": [
    "\n",
    "\n",
    "for text_batch, label_batch in raw_train_ds.take(2):\n",
    "    for i in range(10):\n",
    "        print(\"Question: \", text_batch.numpy()[i][:100], '...')\n",
    "        print(\"Label:\", label_batch.numpy()[i])"
   ]
  },
  {
   "cell_type": "code",
   "execution_count": 217,
   "metadata": {},
   "outputs": [
    {
     "name": "stdout",
     "output_type": "stream",
     "text": [
      "Label 0 corresponds to Left\n",
      "Label 1 corresponds to Right\n"
     ]
    }
   ],
   "source": [
    "for i, label in enumerate(raw_train_ds.class_names):\n",
    "  print(\"Label\", i, \"corresponds to\", label)"
   ]
  },
  {
   "cell_type": "markdown",
   "metadata": {
    "id": "nWA4c2ir7g6p"
   },
   "source": [
    "Initially this returns a dataset of (text, label pairs):"
   ]
  },
  {
   "cell_type": "code",
   "execution_count": 218,
   "metadata": {
    "execution": {
     "iopub.execute_input": "2020-11-10T02:41:19.254724Z",
     "iopub.status.busy": "2020-11-10T02:41:19.254014Z",
     "iopub.status.idle": "2020-11-10T02:41:19.293169Z",
     "shell.execute_reply": "2020-11-10T02:41:19.293669Z"
    },
    "id": "vd4_BGKyurao"
   },
   "outputs": [
    {
     "name": "stdout",
     "output_type": "stream",
     "text": [
      "text:  [b'CNN announces Republican primary debate state\\n'\n",
      " b'Republican Billionaires Break for Clinton\\n'\n",
      " b'The West should embrace Turkey\\xe2\\x80\\x99s democratic resistance\\n'\n",
      " b'Top Republicans who opposed Syria attack under Obama are now praising Trump\\xe2\\x80\\x99s strike\\n'\n",
      " b' November preview? Turnout surging in Republican primaries \\xe2\\x80\\x93 and sinking for Democrats\\n'\n",
      " b'Convention host state no sure bet for Democrats\\n'\n",
      " b'Democratic lawmakers launch blast at inspectors general in Clinton email probe\\n'\n",
      " b'Can Democrats Get Republicans to Move on Scalia\\xe2\\x80\\x99s Replacement?\\n'\n",
      " b'More Americans Look to Congressional Democrats Than to Trump for Solutions\\n'\n",
      " b'title\\n'\n",
      " b'Democratic draft platform seeks DOJ probe of fossil fuel companies\\n'\n",
      " b'Clinton campaign pushes Democratic party stars to shore up youth vote\\n'\n",
      " b'Why Won\\xe2\\x80\\x99t More Republicans Privately Voting for Clinton Say So in Public?\\n'\n",
      " b'How the Iowa Democratic and Republican caucuses work\\n'\n",
      " b'What Republicans can learn from the House health care mess\\n'\n",
      " b'Democratic Rep. Kirkpatrick to challenge John McCain\\n']\n",
      "label:  [1 1 0 1 0 0 0 1 0 1 0 0 1 0 1 0]\n"
     ]
    }
   ],
   "source": [
    "for example, label in train_dataset.take(1):\n",
    "  print('text: ', example.numpy())\n",
    "  print('label: ', label.numpy())"
   ]
  },
  {
   "cell_type": "markdown",
   "metadata": {
    "id": "z2qVJzcEluH_"
   },
   "source": [
    "Next shuffle the data for training and create batches of these `(text, label)` pairs:"
   ]
  },
  {
   "cell_type": "code",
   "execution_count": 219,
   "metadata": {
    "execution": {
     "iopub.execute_input": "2020-11-10T02:41:19.298346Z",
     "iopub.status.busy": "2020-11-10T02:41:19.297481Z",
     "iopub.status.idle": "2020-11-10T02:41:19.299638Z",
     "shell.execute_reply": "2020-11-10T02:41:19.300089Z"
    },
    "id": "dDsCaZCDYZgm"
   },
   "outputs": [],
   "source": [
    "BUFFER_SIZE = 10000\n",
    "BATCH_SIZE = 64"
   ]
  },
  {
   "cell_type": "code",
   "execution_count": 220,
   "metadata": {
    "execution": {
     "iopub.execute_input": "2020-11-10T02:41:19.305015Z",
     "iopub.status.busy": "2020-11-10T02:41:19.304176Z",
     "iopub.status.idle": "2020-11-10T02:41:19.307466Z",
     "shell.execute_reply": "2020-11-10T02:41:19.307875Z"
    },
    "id": "VznrltNOnUc5"
   },
   "outputs": [],
   "source": [
    "train_dataset = raw_train_ds\n",
    "#train_dataset = train_dataset.shuffle(BUFFER_SIZE).batch(BATCH_SIZE).prefetch(tf.data.experimental.AUTOTUNE)\n",
    "#test_dataset = test_dataset.batch(BATCH_SIZE).prefetch(tf.data.experimental.AUTOTUNE)"
   ]
  },
  {
   "cell_type": "code",
   "execution_count": 221,
   "metadata": {
    "execution": {
     "iopub.execute_input": "2020-11-10T02:41:19.312221Z",
     "iopub.status.busy": "2020-11-10T02:41:19.311533Z",
     "iopub.status.idle": "2020-11-10T02:41:19.554846Z",
     "shell.execute_reply": "2020-11-10T02:41:19.555323Z"
    },
    "id": "jqkvdcFv41wC"
   },
   "outputs": [
    {
     "name": "stdout",
     "output_type": "stream",
     "text": [
      "texts:  [b'Sanders wins Wyoming Democratic caucuses, Cruz taking Colorado delegates\\n'\n",
      " b'Top Republicans who opposed Syria attack under Obama are now praising Trump\\xe2\\x80\\x99s strike\\n'\n",
      " b'Republicans need to stop acting the fool\\n']\n",
      "\n",
      "labels:  [0 1 1]\n"
     ]
    }
   ],
   "source": [
    "for example, label in train_dataset.take(1):\n",
    "  print('texts: ', example.numpy()[:3])\n",
    "  print()\n",
    "  print('labels: ', label.numpy()[:3])"
   ]
  },
  {
   "cell_type": "markdown",
   "metadata": {
    "id": "s5eWCo88voPY"
   },
   "source": [
    "## Create the text encoder"
   ]
  },
  {
   "cell_type": "markdown",
   "metadata": {
    "id": "TFevcItw15P_"
   },
   "source": [
    "The raw text loaded by `tfds` needs to be processed before it can be used in a model. The simplest way to process text for training is using the `experimental.preprocessing.TextVectorization` layer. This layer has many capabilities, but this tutorial sticks to the default behavior.\n",
    "\n",
    "Create the layer, and pass the dataset's text to the layer's `.adapt` method:"
   ]
  },
  {
   "cell_type": "code",
   "execution_count": 222,
   "metadata": {
    "execution": {
     "iopub.execute_input": "2020-11-10T02:41:19.572993Z",
     "iopub.status.busy": "2020-11-10T02:41:19.560125Z",
     "iopub.status.idle": "2020-11-10T02:41:24.078435Z",
     "shell.execute_reply": "2020-11-10T02:41:24.077811Z"
    },
    "id": "uC25Lu1Yvuqy"
   },
   "outputs": [],
   "source": [
    "VOCAB_SIZE=5000\n",
    "encoder = tf.keras.layers.experimental.preprocessing.TextVectorization(\n",
    "    max_tokens=VOCAB_SIZE)\n",
    "encoder.adapt(train_dataset.map(lambda text, label: text))"
   ]
  },
  {
   "cell_type": "markdown",
   "metadata": {
    "id": "IuQzVBbe3Ldu"
   },
   "source": [
    "The `.adapt` method sets the layer's vocabulary. Here are the first 20 tokens. After the padding and unknown tokens they're sorted by frequency: "
   ]
  },
  {
   "cell_type": "code",
   "execution_count": 223,
   "metadata": {
    "execution": {
     "iopub.execute_input": "2020-11-10T02:41:24.083459Z",
     "iopub.status.busy": "2020-11-10T02:41:24.082778Z",
     "iopub.status.idle": "2020-11-10T02:41:24.088082Z",
     "shell.execute_reply": "2020-11-10T02:41:24.087462Z"
    },
    "id": "tBoyjjWg0Ac9"
   },
   "outputs": [
    {
     "data": {
      "text/plain": [
       "array(['', '[UNK]', 'the', 'republicans', 'to', 'democrats', 'republican',\n",
       "       'democratic', 'trump', 'on', 'for', 'in', 'clinton', 'a', 'of',\n",
       "       'and', 'convention', 'house', 'with', 'sanders'], dtype='<U16')"
      ]
     },
     "execution_count": 223,
     "metadata": {},
     "output_type": "execute_result"
    }
   ],
   "source": [
    "vocab = np.array(encoder.get_vocabulary())\n",
    "vocab[:20]"
   ]
  },
  {
   "cell_type": "markdown",
   "metadata": {
    "id": "mjId5pua3jHQ"
   },
   "source": [
    "Once the vocabulary is set, the layer can encode text into indices. The tensors of indices are 0-padded to the longest sequence in the batch (unless you set a fixed `output_sequence_length`):"
   ]
  },
  {
   "cell_type": "code",
   "execution_count": 224,
   "metadata": {
    "execution": {
     "iopub.execute_input": "2020-11-10T02:41:24.092448Z",
     "iopub.status.busy": "2020-11-10T02:41:24.091812Z",
     "iopub.status.idle": "2020-11-10T02:41:24.106347Z",
     "shell.execute_reply": "2020-11-10T02:41:24.106764Z"
    },
    "id": "RGc7C9WiwRWs"
   },
   "outputs": [
    {
     "data": {
      "text/plain": [
       "array([[  19,   55,  347,    7,  107,  162,  230,  304,   68,    0,    0,\n",
       "           0,    0,    0],\n",
       "       [  77,    3,   88,  252,  172,  209,  366,   57,   32,  120,  955,\n",
       "          25,  234,    0],\n",
       "       [   3,  121,    4,  395, 1496,    2, 1216,    0,    0,    0,    0,\n",
       "           0,    0,    0]])"
      ]
     },
     "execution_count": 224,
     "metadata": {},
     "output_type": "execute_result"
    }
   ],
   "source": [
    "encoded_example = encoder(example)[:3].numpy()\n",
    "encoded_example"
   ]
  },
  {
   "cell_type": "markdown",
   "metadata": {
    "id": "F5cjz0bS39IN"
   },
   "source": [
    "With the default settings, the process is not completely reversible. There are three main reasns for that:\n",
    "\n",
    "1. The default value for `preprocessing.TextVectorization`'s `standardize` argument is `\"lower_and_strip_punctuation\"`.\n",
    "2. The limited vocabulary size and lack of character-based fallback results in some unknown tokens."
   ]
  },
  {
   "cell_type": "code",
   "execution_count": 225,
   "metadata": {
    "execution": {
     "iopub.execute_input": "2020-11-10T02:41:24.111645Z",
     "iopub.status.busy": "2020-11-10T02:41:24.111013Z",
     "iopub.status.idle": "2020-11-10T02:41:24.115772Z",
     "shell.execute_reply": "2020-11-10T02:41:24.116216Z"
    },
    "id": "N_tD0QY5wXaK"
   },
   "outputs": [
    {
     "name": "stdout",
     "output_type": "stream",
     "text": [
      "Original:  b'Sanders wins Wyoming Democratic caucuses, Cruz taking Colorado delegates\\n'\n",
      "Round-trip:  sanders wins wyoming democratic caucuses cruz taking colorado delegates     \n",
      "\n",
      "Original:  b'Top Republicans who opposed Syria attack under Obama are now praising Trump\\xe2\\x80\\x99s strike\\n'\n",
      "Round-trip:  top republicans who opposed syria attack under obama are now praising trump’s strike \n",
      "\n",
      "Original:  b'Republicans need to stop acting the fool\\n'\n",
      "Round-trip:  republicans need to stop acting the fool       \n",
      "\n"
     ]
    }
   ],
   "source": [
    "for n in range(3):\n",
    "  print(\"Original: \", example[n].numpy())\n",
    "  print(\"Round-trip: \", \" \".join(vocab[encoded_example[n]]))\n",
    "  print()"
   ]
  },
  {
   "cell_type": "markdown",
   "metadata": {
    "id": "bjUqGVBxGw-t"
   },
   "source": [
    "## Create the model"
   ]
  },
  {
   "cell_type": "markdown",
   "metadata": {
    "id": "W7zsmInBOCPO"
   },
   "source": [
    "![A drawing of the information flow in the model](images/bidirectional.png)"
   ]
  },
  {
   "cell_type": "markdown",
   "metadata": {
    "id": "bgs6nnSTGw-t"
   },
   "source": [
    "Above is a diagram of the model. \n",
    "\n",
    "1. This model can be build as a `tf.keras.Sequential`.\n",
    "\n",
    "1. The first layer is the `encoder`, which converts the text to a sequence of token indices.\n",
    "\n",
    "2. After the encoder is an embedding layer. An embedding layer stores one vector per word. When called, it converts the sequences of word indices to sequences of vectors. These vectors are trainable. After training (on enough data), words with similar meanings often have similar vectors.\n",
    "\n",
    "  This index-lookup is much more efficient than the equivalent operation of passing a one-hot encoded vector through a `tf.keras.layers.Dense` layer.\n",
    "\n",
    "3. A recurrent neural network (RNN) processes sequence input by iterating through the elements. RNNs pass the outputs from one timestep to their input on the next timestep.\n",
    "\n",
    "  The `tf.keras.layers.Bidirectional` wrapper can also be used with an RNN layer. This propagates the input forward and backwards through the RNN layer and then concatenates the final output. \n",
    "\n",
    "  * The main advantage to a bidirectional RNN is that the signal from the beginning of the input doesn't need to be processed all the way through every timestep to affect the output.  \n",
    "\n",
    "  * The main disadvantage of a bidirectional RNN is that you can't efficiently stream predictions as words are being added to the end.\n",
    "\n",
    "1. After the RNN has converted the sequence to a single vector the two `layers.Dense` do some final processing, and convert from this vector representation to a single logit as the classification output. \n"
   ]
  },
  {
   "cell_type": "markdown",
   "metadata": {
    "id": "V4fodCI7soQi"
   },
   "source": [
    "The code to implement this is below:"
   ]
  },
  {
   "cell_type": "code",
   "execution_count": 226,
   "metadata": {
    "execution": {
     "iopub.execute_input": "2020-11-10T02:41:24.121725Z",
     "iopub.status.busy": "2020-11-10T02:41:24.121038Z",
     "iopub.status.idle": "2020-11-10T02:41:24.155014Z",
     "shell.execute_reply": "2020-11-10T02:41:24.154269Z"
    },
    "id": "LwfoBkmRYcP3"
   },
   "outputs": [],
   "source": [
    "model = tf.keras.Sequential([\n",
    "    encoder,\n",
    "    tf.keras.layers.Embedding(\n",
    "        input_dim=len(encoder.get_vocabulary()),\n",
    "        output_dim=64,\n",
    "        # Use masking to handle the variable sequence lengths\n",
    "        mask_zero=True),\n",
    "    tf.keras.layers.Bidirectional(tf.keras.layers.LSTM(64)),\n",
    "    tf.keras.layers.Dense(64, activation='relu'),\n",
    "    tf.keras.layers.Dense(1)\n",
    "])"
   ]
  },
  {
   "cell_type": "markdown",
   "metadata": {
    "id": "QIGmIGkkouUb"
   },
   "source": [
    "Please note that Keras sequential model is used here since all the layers in the model only have single input and produce single output. In case you want to use stateful RNN layer, you might want to build your model with Keras functional API or model subclassing so that you can retrieve and reuse the RNN layer states. Please check [Keras RNN guide](https://www.tensorflow.org/guide/keras/rnn#rnn_state_reuse) for more details."
   ]
  },
  {
   "cell_type": "markdown",
   "metadata": {
    "id": "kF-PsCk1LwjY"
   },
   "source": [
    "The embedding layer [uses masking](../../guide/keras/masking_and_padding) to handle the varying sequence-lengths. All the layers after the `Embedding` support masking:"
   ]
  },
  {
   "cell_type": "code",
   "execution_count": 227,
   "metadata": {
    "execution": {
     "iopub.execute_input": "2020-11-10T02:41:24.159987Z",
     "iopub.status.busy": "2020-11-10T02:41:24.159256Z",
     "iopub.status.idle": "2020-11-10T02:41:24.161963Z",
     "shell.execute_reply": "2020-11-10T02:41:24.162462Z"
    },
    "id": "87a8-CwfKebw"
   },
   "outputs": [
    {
     "name": "stdout",
     "output_type": "stream",
     "text": [
      "[False, True, True, True, True]\n"
     ]
    }
   ],
   "source": [
    "print([layer.supports_masking for layer in model.layers])"
   ]
  },
  {
   "cell_type": "markdown",
   "metadata": {
    "id": "ZlS0iaUIWLpI"
   },
   "source": [
    "To confirm that this works as expected, evaluate a sentence twice. First, alone so there's no padding to mask:"
   ]
  },
  {
   "cell_type": "code",
   "execution_count": 228,
   "metadata": {
    "execution": {
     "iopub.execute_input": "2020-11-10T02:41:24.168072Z",
     "iopub.status.busy": "2020-11-10T02:41:24.167320Z",
     "iopub.status.idle": "2020-11-10T02:41:30.445114Z",
     "shell.execute_reply": "2020-11-10T02:41:30.444586Z"
    },
    "id": "O41gw3KfWHus"
   },
   "outputs": [
    {
     "name": "stdout",
     "output_type": "stream",
     "text": [
      "WARNING:tensorflow:5 out of the last 11 calls to <function Model.make_predict_function.<locals>.predict_function at 0x145338820> triggered tf.function retracing. Tracing is expensive and the excessive number of tracings could be due to (1) creating @tf.function repeatedly in a loop, (2) passing tensors with different shapes, (3) passing Python objects instead of tensors. For (1), please define your @tf.function outside of the loop. For (2), @tf.function has experimental_relax_shapes=True option that relaxes argument shapes that can avoid unnecessary retracing. For (3), please refer to https://www.tensorflow.org/tutorials/customization/performance#python_or_tensor_args and https://www.tensorflow.org/api_docs/python/tf/function for  more details.\n",
      "[-0.00261245]\n"
     ]
    }
   ],
   "source": [
    "# predict on a sample text without padding.\n",
    "\n",
    "sample_text = ('Republicans lack agreement on Obamacare ahead of Trump speech')\n",
    "predictions = model.predict(np.array([sample_text]))\n",
    "print(predictions[0])"
   ]
  },
  {
   "cell_type": "markdown",
   "metadata": {
    "id": "K0VQmGnEWcuz"
   },
   "source": [
    "Now, evaluate it again in a batch with a longer sentence. The result should be identical:"
   ]
  },
  {
   "cell_type": "code",
   "execution_count": 229,
   "metadata": {
    "execution": {
     "iopub.execute_input": "2020-11-10T02:41:30.450463Z",
     "iopub.status.busy": "2020-11-10T02:41:30.449801Z",
     "iopub.status.idle": "2020-11-10T02:41:30.541207Z",
     "shell.execute_reply": "2020-11-10T02:41:30.540660Z"
    },
    "id": "UIgpuTeFNDzq"
   },
   "outputs": [
    {
     "name": "stdout",
     "output_type": "stream",
     "text": [
      "[-0.00261245]\n"
     ]
    }
   ],
   "source": [
    "# predict on a sample text with padding\n",
    "\n",
    "padding = \"the \" * 2000\n",
    "predictions = model.predict(np.array([sample_text, padding]))\n",
    "print(predictions[0])"
   ]
  },
  {
   "cell_type": "markdown",
   "metadata": {
    "id": "sRI776ZcH3Tf"
   },
   "source": [
    "Compile the Keras model to configure the training process:"
   ]
  },
  {
   "cell_type": "code",
   "execution_count": 230,
   "metadata": {
    "execution": {
     "iopub.execute_input": "2020-11-10T02:41:30.554797Z",
     "iopub.status.busy": "2020-11-10T02:41:30.550154Z",
     "iopub.status.idle": "2020-11-10T02:41:30.564894Z",
     "shell.execute_reply": "2020-11-10T02:41:30.564371Z"
    },
    "id": "kj2xei41YZjC"
   },
   "outputs": [],
   "source": [
    "model.compile(loss=tf.keras.losses.BinaryCrossentropy(from_logits=True),\n",
    "              optimizer=tf.keras.optimizers.Adam(1e-4),\n",
    "              metrics=['accuracy'])"
   ]
  },
  {
   "cell_type": "markdown",
   "metadata": {
    "id": "zIwH3nto596k"
   },
   "source": [
    "## Train the model"
   ]
  },
  {
   "cell_type": "code",
   "execution_count": 231,
   "metadata": {
    "execution": {
     "iopub.execute_input": "2020-11-10T02:41:30.569722Z",
     "iopub.status.busy": "2020-11-10T02:41:30.569003Z",
     "iopub.status.idle": "2020-11-10T02:46:26.216444Z",
     "shell.execute_reply": "2020-11-10T02:46:26.215764Z"
    },
    "id": "hw86wWS4YgR2"
   },
   "outputs": [
    {
     "name": "stdout",
     "output_type": "stream",
     "text": [
      "Epoch 1/10\n",
      "37/37 [==============================] - 2s 63ms/step - loss: 0.6921 - accuracy: 0.5078 - val_loss: 0.6896 - val_accuracy: 0.5500\n",
      "Epoch 2/10\n",
      "37/37 [==============================] - 0s 13ms/step - loss: 0.6881 - accuracy: 0.5078 - val_loss: 0.6846 - val_accuracy: 0.5063\n",
      "Epoch 3/10\n",
      "37/37 [==============================] - 0s 13ms/step - loss: 0.6804 - accuracy: 0.5078 - val_loss: 0.6722 - val_accuracy: 0.5750\n",
      "Epoch 4/10\n",
      "37/37 [==============================] - 0s 13ms/step - loss: 0.6621 - accuracy: 0.5078 - val_loss: 0.6426 - val_accuracy: 0.5312\n",
      "Epoch 5/10\n",
      "37/37 [==============================] - 0s 12ms/step - loss: 0.6155 - accuracy: 0.5078 - val_loss: 0.5692 - val_accuracy: 0.5125\n",
      "Epoch 6/10\n",
      "37/37 [==============================] - 0s 13ms/step - loss: 0.4979 - accuracy: 0.6131 - val_loss: 0.3772 - val_accuracy: 0.8313\n",
      "Epoch 7/10\n",
      "37/37 [==============================] - 0s 13ms/step - loss: 0.2897 - accuracy: 0.9396 - val_loss: 0.1777 - val_accuracy: 0.9688\n",
      "Epoch 8/10\n",
      "37/37 [==============================] - 0s 12ms/step - loss: 0.1449 - accuracy: 0.9724 - val_loss: 0.0986 - val_accuracy: 0.9750\n",
      "Epoch 9/10\n",
      "37/37 [==============================] - 0s 13ms/step - loss: 0.0981 - accuracy: 0.9724 - val_loss: 0.0859 - val_accuracy: 0.9688\n",
      "Epoch 10/10\n",
      "37/37 [==============================] - 0s 13ms/step - loss: 0.0790 - accuracy: 0.9706 - val_loss: 0.0635 - val_accuracy: 0.9875\n"
     ]
    }
   ],
   "source": [
    "history = model.fit(train_dataset, epochs=10,\n",
    "                    validation_data=train_dataset, #testdataset required\n",
    "                    validation_steps=10)"
   ]
  },
  {
   "cell_type": "code",
   "execution_count": 232,
   "metadata": {
    "execution": {
     "iopub.execute_input": "2020-11-10T02:46:26.221163Z",
     "iopub.status.busy": "2020-11-10T02:46:26.220456Z",
     "iopub.status.idle": "2020-11-10T02:46:40.248236Z",
     "shell.execute_reply": "2020-11-10T02:46:40.247723Z"
    },
    "id": "BaNbXi43YgUT"
   },
   "outputs": [
    {
     "name": "stdout",
     "output_type": "stream",
     "text": [
      "37/37 [==============================] - 0s 6ms/step - loss: 0.0671 - accuracy: 0.9758\n",
      "Test Loss: 0.06713943183422089\n",
      "Test Accuracy: 0.9758203625679016\n"
     ]
    }
   ],
   "source": [
    "test_loss, test_acc = model.evaluate(train_dataset) # test_dataset required\n",
    "\n",
    "print('Test Loss: {}'.format(test_loss))\n",
    "print('Test Accuracy: {}'.format(test_acc))"
   ]
  },
  {
   "cell_type": "code",
   "execution_count": 233,
   "metadata": {
    "execution": {
     "iopub.execute_input": "2020-11-10T02:46:40.264945Z",
     "iopub.status.busy": "2020-11-10T02:46:40.264379Z",
     "iopub.status.idle": "2020-11-10T02:46:40.521014Z",
     "shell.execute_reply": "2020-11-10T02:46:40.521489Z"
    },
    "id": "OZmwt_mzaQJk"
   },
   "outputs": [
    {
     "data": {
      "text/plain": [
       "(0.0, 0.723582386225462)"
      ]
     },
     "execution_count": 233,
     "metadata": {},
     "output_type": "execute_result"
    },
    {
     "data": {
      "image/png": "[encoded data removed]",
      "text/plain": [
       "<Figure size 1152x576 with 2 Axes>"
      ]
     },
     "metadata": {
      "needs_background": "light"
     },
     "output_type": "display_data"
    }
   ],
   "source": [
    "plt.figure(figsize=(16,8))\n",
    "plt.subplot(1,2,1)\n",
    "plot_graphs(history, 'accuracy')\n",
    "plt.ylim(None,1)\n",
    "plt.subplot(1,2,2)\n",
    "plot_graphs(history, 'loss')\n",
    "plt.ylim(0,None)"
   ]
  },
  {
   "cell_type": "markdown",
   "metadata": {
    "id": "DwSE_386uhxD"
   },
   "source": [
    "Run a prediction on a neew sentence:\n",
    "\n",
    "If the prediction is >= 0.0, it is positive else it is negative."
   ]
  },
  {
   "cell_type": "code",
   "execution_count": 234,
   "metadata": {
    "execution": {
     "iopub.execute_input": "2020-11-10T02:46:40.526310Z",
     "iopub.status.busy": "2020-11-10T02:46:40.525618Z",
     "iopub.status.idle": "2020-11-10T02:46:42.527252Z",
     "shell.execute_reply": "2020-11-10T02:46:42.527710Z"
    },
    "id": "ZXgfQSgRW6zU"
   },
   "outputs": [
    {
     "name": "stdout",
     "output_type": "stream",
     "text": [
      "WARNING:tensorflow:5 out of the last 12 calls to <function Model.make_predict_function.<locals>.predict_function at 0x1468195e0> triggered tf.function retracing. Tracing is expensive and the excessive number of tracings could be due to (1) creating @tf.function repeatedly in a loop, (2) passing tensors with different shapes, (3) passing Python objects instead of tensors. For (1), please define your @tf.function outside of the loop. For (2), @tf.function has experimental_relax_shapes=True option that relaxes argument shapes that can avoid unnecessary retracing. For (3), please refer to https://www.tensorflow.org/tutorials/customization/performance#python_or_tensor_args and https://www.tensorflow.org/api_docs/python/tf/function for  more details.\n",
      "[[ 3.3446858]\n",
      " [-7.1659613]]\n"
     ]
    }
   ],
   "source": [
    "# predict on a sample text without padding.\n",
    "\n",
    "sample_text1 = ('White House, Congress Republicans nearing key tax overhaul decisions')\n",
    "sample_text2 = ('Democrats Hope Sunday Obamacare Rallies Can Help Them Regain Momentum ')\n",
    "\n",
    "predictions = model.predict(np.array([sample_text1, sample_text2]))\n",
    "print(predictions)"
   ]
  },
  {
   "cell_type": "markdown",
   "metadata": {
    "id": "7g1evcaRpTKm"
   },
   "source": [
    "## Stack two or more LSTM layers\n",
    "\n",
    "Keras recurrent layers have two available modes that are controlled by the `return_sequences` constructor argument:\n",
    "\n",
    "* If `False` it returns only the last output for each input sequence (a 2D tensor of shape (batch_size, output_features)). This is the default, used in the previous model.\n",
    "\n",
    "* If `True` the full sequences of successive outputs for each timestep is returned (a 3D tensor of shape `(batch_size, timesteps, output_features)`).\n",
    "\n",
    "Here is what the flow of information looks like with `return_sequences=True`:\n",
    "\n",
    "![layered_bidirectional](images/layered_bidirectional.ipynb)"
   ]
  },
  {
   "cell_type": "markdown",
   "metadata": {
    "id": "wbSClCrG1z8l"
   },
   "source": [
    "The interesting thing about using an `RNN` with `return_sequences=True` is that the output still has 3-axes, like the input, so it can be passed to another RNN layer, like this:"
   ]
  },
  {
   "cell_type": "code",
   "execution_count": 235,
   "metadata": {
    "execution": {
     "iopub.execute_input": "2020-11-10T02:46:42.534213Z",
     "iopub.status.busy": "2020-11-10T02:46:42.533583Z",
     "iopub.status.idle": "2020-11-10T02:46:42.567937Z",
     "shell.execute_reply": "2020-11-10T02:46:42.568400Z"
    },
    "id": "jo1jjO3vn0jo"
   },
   "outputs": [],
   "source": [
    "model = tf.keras.Sequential([\n",
    "    encoder,\n",
    "    tf.keras.layers.Embedding(len(encoder.get_vocabulary()), 64, mask_zero=True),\n",
    "    tf.keras.layers.Bidirectional(tf.keras.layers.LSTM(64,  return_sequences=True)),\n",
    "    tf.keras.layers.Bidirectional(tf.keras.layers.LSTM(32)),\n",
    "    tf.keras.layers.Dense(64, activation='relu'),\n",
    "    tf.keras.layers.Dropout(0.5),\n",
    "    tf.keras.layers.Dense(1)\n",
    "])"
   ]
  },
  {
   "cell_type": "code",
   "execution_count": 236,
   "metadata": {
    "execution": {
     "iopub.execute_input": "2020-11-10T02:46:42.577925Z",
     "iopub.status.busy": "2020-11-10T02:46:42.577110Z",
     "iopub.status.idle": "2020-11-10T02:46:42.582184Z",
     "shell.execute_reply": "2020-11-10T02:46:42.581663Z"
    },
    "id": "hEPV5jVGp-is"
   },
   "outputs": [],
   "source": [
    "model.compile(loss=tf.keras.losses.BinaryCrossentropy(from_logits=True),\n",
    "              optimizer=tf.keras.optimizers.Adam(1e-4),\n",
    "              metrics=['accuracy'])"
   ]
  },
  {
   "cell_type": "code",
   "execution_count": 237,
   "metadata": {
    "execution": {
     "iopub.execute_input": "2020-11-10T02:46:42.586619Z",
     "iopub.status.busy": "2020-11-10T02:46:42.585854Z",
     "iopub.status.idle": "2020-11-10T02:55:26.734344Z",
     "shell.execute_reply": "2020-11-10T02:55:26.733842Z"
    },
    "id": "LeSE-YjdqAeN"
   },
   "outputs": [
    {
     "name": "stdout",
     "output_type": "stream",
     "text": [
      "Epoch 1/10\n",
      "37/37 [==============================] - 4s 112ms/step - loss: 0.6924 - accuracy: 0.5078 - val_loss: 0.6913 - val_accuracy: 0.5125\n",
      "Epoch 2/10\n",
      "37/37 [==============================] - 1s 24ms/step - loss: 0.6901 - accuracy: 0.5078 - val_loss: 0.6878 - val_accuracy: 0.5021\n",
      "Epoch 3/10\n",
      "37/37 [==============================] - 1s 23ms/step - loss: 0.6840 - accuracy: 0.5078 - val_loss: 0.6770 - val_accuracy: 0.5229\n",
      "Epoch 4/10\n",
      "37/37 [==============================] - 1s 23ms/step - loss: 0.6658 - accuracy: 0.5078 - val_loss: 0.6428 - val_accuracy: 0.5000\n",
      "Epoch 5/10\n",
      "37/37 [==============================] - 1s 24ms/step - loss: 0.5973 - accuracy: 0.5078 - val_loss: 0.5154 - val_accuracy: 0.5104\n",
      "Epoch 6/10\n",
      "37/37 [==============================] - 1s 24ms/step - loss: 0.4173 - accuracy: 0.5475 - val_loss: 0.3136 - val_accuracy: 0.7271\n",
      "Epoch 7/10\n",
      "37/37 [==============================] - 1s 24ms/step - loss: 0.2463 - accuracy: 0.8653 - val_loss: 0.1639 - val_accuracy: 0.9646\n",
      "Epoch 8/10\n",
      "37/37 [==============================] - 1s 24ms/step - loss: 0.1350 - accuracy: 0.9620 - val_loss: 0.0909 - val_accuracy: 0.9792\n",
      "Epoch 9/10\n",
      "37/37 [==============================] - 1s 24ms/step - loss: 0.1001 - accuracy: 0.9672 - val_loss: 0.0768 - val_accuracy: 0.9750\n",
      "Epoch 10/10\n",
      "37/37 [==============================] - 1s 23ms/step - loss: 0.0819 - accuracy: 0.9706 - val_loss: 0.0608 - val_accuracy: 0.9792\n"
     ]
    }
   ],
   "source": [
    "history = model.fit(train_dataset, epochs=10,\n",
    "                    validation_data=train_dataset,\n",
    "                    validation_steps=30)"
   ]
  },
  {
   "cell_type": "code",
   "execution_count": 238,
   "metadata": {
    "execution": {
     "iopub.execute_input": "2020-11-10T02:55:26.739395Z",
     "iopub.status.busy": "2020-11-10T02:55:26.738758Z",
     "iopub.status.idle": "2020-11-10T02:55:49.278955Z",
     "shell.execute_reply": "2020-11-10T02:55:49.278459Z"
    },
    "id": "_LdwilM1qPM3"
   },
   "outputs": [
    {
     "name": "stdout",
     "output_type": "stream",
     "text": [
      "37/37 [==============================] - 0s 5ms/step - loss: 0.0620 - accuracy: 0.9758\n",
      "Test Loss: 0.062047772109508514\n",
      "Test Accuracy: 0.9758203625679016\n"
     ]
    }
   ],
   "source": [
    "test_loss, test_acc = model.evaluate(train_dataset)\n",
    "\n",
    "print('Test Loss: {}'.format(test_loss))\n",
    "print('Test Accuracy: {}'.format(test_acc))"
   ]
  },
  {
   "cell_type": "code",
   "execution_count": 239,
   "metadata": {
    "execution": {
     "iopub.execute_input": "2020-11-10T02:55:49.283124Z",
     "iopub.status.busy": "2020-11-10T02:55:49.282565Z",
     "iopub.status.idle": "2020-11-10T02:55:52.660057Z",
     "shell.execute_reply": "2020-11-10T02:55:52.659600Z"
    },
    "id": "ykUKnAoqbycW"
   },
   "outputs": [
    {
     "name": "stdout",
     "output_type": "stream",
     "text": [
      "WARNING:tensorflow:5 out of the last 11 calls to <function Model.make_predict_function.<locals>.predict_function at 0x13f3581f0> triggered tf.function retracing. Tracing is expensive and the excessive number of tracings could be due to (1) creating @tf.function repeatedly in a loop, (2) passing tensors with different shapes, (3) passing Python objects instead of tensors. For (1), please define your @tf.function outside of the loop. For (2), @tf.function has experimental_relax_shapes=True option that relaxes argument shapes that can avoid unnecessary retracing. For (3), please refer to https://www.tensorflow.org/tutorials/customization/performance#python_or_tensor_args and https://www.tensorflow.org/api_docs/python/tf/function for  more details.\n",
      "[[ 3.3026075]\n",
      " [-8.976271 ]]\n"
     ]
    }
   ],
   "source": [
    "# predict on a sample text without padding.\n",
    "\n",
    "sample_text1 = ('White House, Congress Republicans nearing key tax overhaul decisions')\n",
    "sample_text2 = ('Democrats Hope Sunday Obamacare Rallies Can Help Them Regain Momentum ')\n",
    "\n",
    "predictions = model.predict(np.array([sample_text1, sample_text2]))\n",
    "print(predictions)"
   ]
  },
  {
   "cell_type": "code",
   "execution_count": 240,
   "metadata": {
    "execution": {
     "iopub.execute_input": "2020-11-10T02:55:52.676955Z",
     "iopub.status.busy": "2020-11-10T02:55:52.676383Z",
     "iopub.status.idle": "2020-11-10T02:55:52.899997Z",
     "shell.execute_reply": "2020-11-10T02:55:52.899421Z"
    },
    "id": "_YYub0EDtwCu"
   },
   "outputs": [
    {
     "data": {
      "image/png": "[encoded data removed]",
      "text/plain": [
       "<Figure size 1152x432 with 2 Axes>"
      ]
     },
     "metadata": {
      "needs_background": "light"
     },
     "output_type": "display_data"
    }
   ],
   "source": [
    "plt.figure(figsize=(16,6))\n",
    "plt.subplot(1,2,1)\n",
    "plot_graphs(history, 'accuracy')\n",
    "plt.subplot(1,2,2)\n",
    "plot_graphs(history, 'loss')"
   ]
  },
  {
   "cell_type": "markdown",
   "metadata": {
    "id": "9xvpE3BaGw_V"
   },
   "source": [
    "Check out other existing recurrent layers such as [GRU layers](https://www.tensorflow.org/api_docs/python/tf/keras/layers/GRU).\n",
    "\n",
    "If you're interestied in building custom RNNs, see the [Keras RNN Guide](../../guide/keras/rnn.ipynb).\n"
   ]
  }
 ],
 "metadata": {
  "accelerator": "GPU",
  "colab": {
   "collapsed_sections": [],
   "name": "text_classification_rnn.ipynb",
   "toc_visible": true
  },
  "kernelspec": {
   "display_name": "Python 3",
   "language": "python",
   "name": "python3"
  },
  "language_info": {
   "codemirror_mode": {
    "name": "ipython",
    "version": 3
   },
   "file_extension": ".py",
   "mimetype": "text/x-python",
   "name": "python",
   "nbconvert_exporter": "python",
   "pygments_lexer": "ipython3",
   "version": "3.8.5"
  }
 },
 "nbformat": 4,
 "nbformat_minor": 1
}
