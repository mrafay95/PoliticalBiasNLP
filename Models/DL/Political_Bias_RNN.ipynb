{
 "cells": [
  {
   "cell_type": "markdown",
   "metadata": {
    "id": "9TnJztDZGw-n"
   },
   "source": [
    "# Detecting Political Bias with an RNN"
   ]
  },
  {
   "cell_type": "markdown",
   "metadata": {
    "id": "_2VQo4bajwUU"
   },
   "source": [
    "## Setup"
   ]
  },
  {
   "cell_type": "code",
   "execution_count": 1,
   "metadata": {
    "execution": {
     "iopub.execute_input": "2020-11-10T02:40:17.842796Z",
     "iopub.status.busy": "2020-11-10T02:40:17.842105Z",
     "iopub.status.idle": "2020-11-10T02:40:24.418420Z",
     "shell.execute_reply": "2020-11-10T02:40:24.418864Z"
    },
    "id": "z682XYsrjkY9"
   },
   "outputs": [
    {
     "name": "stderr",
     "output_type": "stream",
     "text": [
      "[nltk_data] Downloading package stopwords to\n",
      "[nltk_data]     /Users/muhammadrafay/nltk_data...\n",
      "[nltk_data]   Package stopwords is already up-to-date!\n"
     ]
    },
    {
     "data": {
      "text/plain": [
       "'2.3.0'"
      ]
     },
     "execution_count": 1,
     "metadata": {},
     "output_type": "execute_result"
    }
   ],
   "source": [
    "import pathlib\n",
    "import os\n",
    "import math, random\n",
    "\n",
    "import numpy as np\n",
    "import tensorflow as tf\n",
    "from tensorflow.keras import utils\n",
    "\n",
    "from tensorflow.keras import preprocessing\n",
    "\n",
    "import nltk\n",
    "nltk.download('stopwords')\n",
    "from nltk.corpus import stopwords # Import the stop word list\n",
    "\n",
    "import re\n",
    "\n",
    "tf.__version__\n"
   ]
  },
  {
   "cell_type": "markdown",
   "metadata": {
    "id": "1rXHa-w9JZhb"
   },
   "source": [
    "Import `matplotlib` and create a helper function to plot graphs:"
   ]
  },
  {
   "cell_type": "code",
   "execution_count": 2,
   "metadata": {
    "execution": {
     "iopub.execute_input": "2020-11-10T02:40:24.424875Z",
     "iopub.status.busy": "2020-11-10T02:40:24.424198Z",
     "iopub.status.idle": "2020-11-10T02:40:24.426540Z",
     "shell.execute_reply": "2020-11-10T02:40:24.426024Z"
    },
    "id": "Mp1Z7P9pYRSK"
   },
   "outputs": [],
   "source": [
    "import matplotlib.pyplot as plt\n",
    "\n",
    "def plot_graphs(history, metric):\n",
    "  plt.plot(history.history[metric])\n",
    "  plt.plot(history.history['val_'+metric], '')\n",
    "  plt.xlabel(\"Epochs\")\n",
    "  plt.ylabel(metric)\n",
    "  plt.legend([metric, 'val_'+ metric])"
   ]
  },
  {
   "cell_type": "markdown",
   "metadata": {
    "id": "pRmMubr0jrE2"
   },
   "source": [
    "## Setup input pipeline\n",
    "\n",
    "\n"
   ]
  },
  {
   "cell_type": "code",
   "execution_count": 3,
   "metadata": {
    "execution": {
     "iopub.execute_input": "2020-11-10T02:40:24.431518Z",
     "iopub.status.busy": "2020-11-10T02:40:24.430866Z",
     "iopub.status.idle": "2020-11-10T02:41:19.248959Z",
     "shell.execute_reply": "2020-11-10T02:41:19.249452Z"
    },
    "id": "SHRwRoP2nVHX"
   },
   "outputs": [
    {
     "name": "stdout",
     "output_type": "stream",
     "text": [
      "/Users/muhammadrafay/Desktop/UIUC/Fall2020/CS410_Text_Information_Systems/Final Project/Political_Bias_NLP/Data/Train\n",
      "/Users/muhammadrafay/Desktop/UIUC/Fall2020/CS410_Text_Information_Systems/Final Project/Political_Bias_NLP/Data/Test\n"
     ]
    }
   ],
   "source": [
    "cwd = os.getcwd()\n",
    "train_dir = pathlib.Path(cwd).parent.parent/'Data'/'Train'\n",
    "test_dir = pathlib.Path(cwd).parent.parent/'Data'/'Test'\n",
    "\n",
    "print(train_dir)\n",
    "print(test_dir)\n"
   ]
  },
  {
   "cell_type": "code",
   "execution_count": 539,
   "metadata": {},
   "outputs": [],
   "source": [
    "\n",
    "def title_cleaning( raw_title ):\n",
    "    # 1. \n",
    "    review_text = raw_title\n",
    "    # 2. Remove non-letters        \n",
    "    letters_only = re.sub(\"[^a-zA-Z]\", \" \", review_text) \n",
    "    #\n",
    "    # 3. Convert to lower case, split into individual words\n",
    "    words = letters_only.lower().split()                             \n",
    "    #\n",
    "    # 4. In Python, searching a set is much faster than searching\n",
    "    #   a list, so convert the stop words to a set\n",
    "    stops = set(stopwords.words(\"english\"))                  \n",
    "    # \n",
    "    # 5. Remove stop words\n",
    "    meaningful_words = [w for w in words if not w in stops]   \n",
    "    #\n",
    "    # 6. Join the words back into one string separated by space, \n",
    "    # and return the result.\n",
    "    return( \" \".join( meaningful_words ))"
   ]
  },
  {
   "cell_type": "code",
   "execution_count": 540,
   "metadata": {},
   "outputs": [],
   "source": [
    "\n",
    "train_split = 0.8\n",
    "\n",
    "\n",
    "cwd = os.getcwd()\n",
    "\n",
    "labeled_left_dir = pathlib.Path.joinpath(dataset_dir.parent, \"Labeled_Data/Left/Left.txt\")\n",
    "labeled_right_dir = pathlib.Path.joinpath(dataset_dir.parent, \"Labeled_Data/Right/Right.txt\")\n",
    "\n",
    "Train_left_dir = pathlib.Path.joinpath(dataset_dir.parent, \"Train/Left\")\n",
    "Train_right_dir = pathlib.Path.joinpath(dataset_dir.parent, \"Train/Right\")\n",
    "\n",
    "Test_left_dir = pathlib.Path.joinpath(dataset_dir.parent, \"Test/Left\")\n",
    "Test_right_dir = pathlib.Path.joinpath(dataset_dir.parent, \"Test/Right\")\n",
    "\n",
    "labeled_dirs = [labeled_left_dir, labeled_right_dir]\n",
    "train_dirs = [Train_left_dir, Train_right_dir]\n",
    "test_dirs = [Test_left_dir, Test_right_dir]\n",
    "\n",
    "\n",
    "for dr in range(2):\n",
    "\n",
    "    f = open(labeled_dirs[dr], \"r\")\n",
    "    lines = f.readlines()\n",
    "\n",
    "    \n",
    "    arr = np.arange(0,len(lines))\n",
    "    np.random.shuffle(arr)\n",
    "    \n",
    "    nTrain = math.floor(len(lines)*train_split)\n",
    "    \n",
    "    \n",
    "    c = 0  \n",
    "    for i in range(nTrain):\n",
    "        c = c + 1                                   \n",
    "        file_path = pathlib.Path.joinpath(train_dirs[dr], str(c) + '.txt')                                    \n",
    "        nf = open(file_path, \"w\")\n",
    "        nf.write(title_cleaning(lines[arr[i]]))\n",
    "    \n",
    "    c = 0\n",
    "    for i in range(nTrain, len(lines)):\n",
    "        c = c + 1                                   \n",
    "        file_path = pathlib.Path.joinpath(test_dirs[dr], str(c) + '.txt')                                    \n",
    "        nf = open(file_path, \"w\")\n",
    "        nf.write(lines[arr[i]])\n",
    "\n",
    "\n"
   ]
  },
  {
   "cell_type": "code",
   "execution_count": 541,
   "metadata": {},
   "outputs": [
    {
     "name": "stdout",
     "output_type": "stream",
     "text": [
      "Found 3095 files belonging to 2 classes.\n",
      "Found 689 files belonging to 2 classes.\n"
     ]
    }
   ],
   "source": [
    "batch_size = 16\n",
    "seed = 42\n",
    "\n",
    "\n",
    "raw_train_ds = preprocessing.text_dataset_from_directory(\n",
    "    train_dir,\n",
    "    batch_size = batch_size,\n",
    "    seed = seed)\n",
    "\n",
    "raw_test_ds = preprocessing.text_dataset_from_directory(\n",
    "    test_dir,\n",
    "    batch_size=batch_size,\n",
    "    seed=seed)\n"
   ]
  },
  {
   "cell_type": "code",
   "execution_count": 542,
   "metadata": {},
   "outputs": [
    {
     "name": "stdout",
     "output_type": "stream",
     "text": [
      "Question:  b'democrats hope year old win republican house seat georgia' ...\n",
      "Label: 0\n",
      "Question:  b'education chief pick betsy devos primary interloper trump represent republican party breitbart' ...\n",
      "Label: 1\n",
      "Question:  b'cruz pitch republican jewish coalition trump nomination bloodbath walter mondale proportions breitba' ...\n",
      "Label: 0\n",
      "Question:  b'washington post democrats panicking' ...\n",
      "Label: 0\n",
      "Question:  b'republicans gain governorships north carolina air' ...\n",
      "Label: 1\n",
      "Question:  b'trump supporter shot democratic congressmen' ...\n",
      "Label: 1\n",
      "Question:  b'simple reason black early voting worry democrats much' ...\n",
      "Label: 0\n",
      "Question:  b'democrats grind senate work halt comey firing' ...\n",
      "Label: 0\n",
      "Question:  b'new worry clinton trump struggles may depress democratic voter turnout' ...\n",
      "Label: 1\n",
      "Question:  b'exclusive regnery anti trump democrats best allies senate republicans breitbart' ...\n",
      "Label: 0\n",
      "Question:  b'exclusive pat buchanan donald trump rise rejection quarter century bush republicanism breitbart' ...\n",
      "Label: 1\n",
      "Question:  b'senate democrat vowed filibuster donald trump supreme court pick' ...\n",
      "Label: 0\n",
      "Question:  b'report asian americans drifting republican party' ...\n",
      "Label: 0\n",
      "Question:  b'jackie mason democrats still trying overturn honest election' ...\n",
      "Label: 1\n",
      "Question:  b'bill maher democrats made big mistake cried wolf republicans' ...\n",
      "Label: 1\n",
      "Question:  b'republicans reach staggering new heights hypocrisy' ...\n",
      "Label: 0\n",
      "Question:  b'republicans hammer epa official flint water crisis' ...\n",
      "Label: 1\n",
      "Question:  b'john oliver year old republican come around marijuana federal law' ...\n",
      "Label: 1\n",
      "Question:  b'keith ellison bernie made democrats greater ever breitbart' ...\n",
      "Label: 1\n",
      "Question:  b'republicans worried' ...\n",
      "Label: 0\n"
     ]
    }
   ],
   "source": [
    "for text_batch, label_batch in raw_train_ds.take(2):\n",
    "    for i in range(10):\n",
    "        print(\"Question: \", text_batch.numpy()[i][:100], '...')\n",
    "        print(\"Label:\", label_batch.numpy()[i])"
   ]
  },
  {
   "cell_type": "code",
   "execution_count": 543,
   "metadata": {},
   "outputs": [
    {
     "name": "stdout",
     "output_type": "stream",
     "text": [
      "Label 0 corresponds to Left\n",
      "Label 1 corresponds to Right\n"
     ]
    }
   ],
   "source": [
    "for i, label in enumerate(raw_train_ds.class_names):\n",
    "  print(\"Label\", i, \"corresponds to\", label)"
   ]
  },
  {
   "cell_type": "markdown",
   "metadata": {
    "id": "nWA4c2ir7g6p"
   },
   "source": [
    "Initially this returns a dataset of (text, label pairs):"
   ]
  },
  {
   "cell_type": "code",
   "execution_count": 544,
   "metadata": {
    "execution": {
     "iopub.execute_input": "2020-11-10T02:41:19.254724Z",
     "iopub.status.busy": "2020-11-10T02:41:19.254014Z",
     "iopub.status.idle": "2020-11-10T02:41:19.293169Z",
     "shell.execute_reply": "2020-11-10T02:41:19.293669Z"
    },
    "id": "vd4_BGKyurao"
   },
   "outputs": [
    {
     "name": "stdout",
     "output_type": "stream",
     "text": [
      "text:  [b'democrats approve platform draft sanders imprint'\n",
      " b'body blow investigation democrats slam gop investigator disclosure trump wiretap claims'\n",
      " b'democrats must avoid fighting back trump'\n",
      " b'exclusive pat buchanan donald trump rise rejection quarter century bush republicanism breitbart'\n",
      " b'single republican delegate bound donald trump'\n",
      " b'early sign trump organized big democratic advantage nevada voting'\n",
      " b'trump tucker carlson know counties voted lose republican health plan'\n",
      " b'san diego paper endorses clinton st democrat years'\n",
      " b'obama made anti trump republicans jealous'\n",
      " b'hackers release phone numbers house democrats'\n",
      " b'bernie sanders defends campaigning anti abortion rights democrat'\n",
      " b'new worry clinton trump struggles may depress democratic voter turnout'\n",
      " b'washington post chief correspondent trolls republicans turn president trump'\n",
      " b'washington post democrats panicking'\n",
      " b'camille paglia predicts trump reelection democrats overplayed hand'\n",
      " b'cbo delivered huge blow republicans obamacare replacement']\n",
      "label:  [0 0 0 1 0 0 0 0 0 1 0 1 0 0 1 0]\n"
     ]
    }
   ],
   "source": [
    "for example, label in train_dataset.take(1):\n",
    "  print('text: ', example.numpy())\n",
    "  print('label: ', label.numpy())"
   ]
  },
  {
   "cell_type": "markdown",
   "metadata": {
    "id": "z2qVJzcEluH_"
   },
   "source": [
    "Next shuffle the data for training and create batches of these `(text, label)` pairs:"
   ]
  },
  {
   "cell_type": "code",
   "execution_count": 545,
   "metadata": {
    "execution": {
     "iopub.execute_input": "2020-11-10T02:41:19.298346Z",
     "iopub.status.busy": "2020-11-10T02:41:19.297481Z",
     "iopub.status.idle": "2020-11-10T02:41:19.299638Z",
     "shell.execute_reply": "2020-11-10T02:41:19.300089Z"
    },
    "id": "dDsCaZCDYZgm"
   },
   "outputs": [],
   "source": [
    "BUFFER_SIZE = 10000\n",
    "BATCH_SIZE = 64"
   ]
  },
  {
   "cell_type": "code",
   "execution_count": 546,
   "metadata": {
    "execution": {
     "iopub.execute_input": "2020-11-10T02:41:19.305015Z",
     "iopub.status.busy": "2020-11-10T02:41:19.304176Z",
     "iopub.status.idle": "2020-11-10T02:41:19.307466Z",
     "shell.execute_reply": "2020-11-10T02:41:19.307875Z"
    },
    "id": "VznrltNOnUc5"
   },
   "outputs": [],
   "source": [
    "train_dataset = raw_train_ds\n",
    "test_dataset =  raw_test_ds\n",
    "#train_dataset = train_dataset.shuffle(BUFFER_SIZE).batch(BATCH_SIZE).prefetch(tf.data.experimental.AUTOTUNE)\n",
    "#test_dataset = test_dataset.batch(BATCH_SIZE).prefetch(tf.data.experimental.AUTOTUNE)"
   ]
  },
  {
   "cell_type": "code",
   "execution_count": 547,
   "metadata": {
    "execution": {
     "iopub.execute_input": "2020-11-10T02:41:19.312221Z",
     "iopub.status.busy": "2020-11-10T02:41:19.311533Z",
     "iopub.status.idle": "2020-11-10T02:41:19.554846Z",
     "shell.execute_reply": "2020-11-10T02:41:19.555323Z"
    },
    "id": "jqkvdcFv41wC"
   },
   "outputs": [
    {
     "name": "stdout",
     "output_type": "stream",
     "text": [
      "texts:  [b'biden ronald reagan could win republican primary today'\n",
      " b'republicans control presidency senate house'\n",
      " b'moderator democrat debate live mic oh god breitbart']\n",
      "\n",
      "labels:  [0 1 1]\n"
     ]
    }
   ],
   "source": [
    "for example, label in train_dataset.take(1):\n",
    "  print('texts: ', example.numpy()[:3])\n",
    "  print()\n",
    "  print('labels: ', label.numpy()[:3])"
   ]
  },
  {
   "cell_type": "markdown",
   "metadata": {
    "id": "s5eWCo88voPY"
   },
   "source": [
    "## Create the text encoder"
   ]
  },
  {
   "cell_type": "markdown",
   "metadata": {
    "id": "TFevcItw15P_"
   },
   "source": [
    " The simplest way to process text for training is using the `experimental.preprocessing.TextVectorization` layer. \n",
    "\n",
    "Create the layer, and pass the dataset's text to the layer's `.adapt` method:"
   ]
  },
  {
   "cell_type": "code",
   "execution_count": 548,
   "metadata": {
    "execution": {
     "iopub.execute_input": "2020-11-10T02:41:19.572993Z",
     "iopub.status.busy": "2020-11-10T02:41:19.560125Z",
     "iopub.status.idle": "2020-11-10T02:41:24.078435Z",
     "shell.execute_reply": "2020-11-10T02:41:24.077811Z"
    },
    "id": "uC25Lu1Yvuqy"
   },
   "outputs": [],
   "source": [
    "VOCAB_SIZE = 2300\n",
    "encoder = tf.keras.layers.experimental.preprocessing.TextVectorization(\n",
    "    max_tokens=VOCAB_SIZE)\n",
    "encoder.adapt(train_dataset.map(lambda text, label: text))"
   ]
  },
  {
   "cell_type": "markdown",
   "metadata": {
    "id": "IuQzVBbe3Ldu"
   },
   "source": [
    "The `.adapt` method sets the layer's vocabulary. Here are the first 20 tokens. After the padding and unknown tokens they're sorted by frequency: "
   ]
  },
  {
   "cell_type": "code",
   "execution_count": 549,
   "metadata": {
    "execution": {
     "iopub.execute_input": "2020-11-10T02:41:24.083459Z",
     "iopub.status.busy": "2020-11-10T02:41:24.082778Z",
     "iopub.status.idle": "2020-11-10T02:41:24.088082Z",
     "shell.execute_reply": "2020-11-10T02:41:24.087462Z"
    },
    "id": "tBoyjjWg0Ac9"
   },
   "outputs": [
    {
     "data": {
      "text/plain": [
       "array(['', '[UNK]', 'republicans', 'democrats', 'trump', 'republican',\n",
       "       'breitbart', 'democratic', 'party', 'house', 'clinton', 'donald',\n",
       "       'obamacare', 'democrat', 'senate', 'bill', 'health', 'hillary',\n",
       "       'obama', 'care'], dtype='<U15')"
      ]
     },
     "execution_count": 549,
     "metadata": {},
     "output_type": "execute_result"
    }
   ],
   "source": [
    "vocab = np.array(encoder.get_vocabulary())\n",
    "vocab[:20]"
   ]
  },
  {
   "cell_type": "markdown",
   "metadata": {
    "id": "mjId5pua3jHQ"
   },
   "source": [
    "Once the vocabulary is set, the layer can encode text into indices. The tensors of indices are 0-padded to the longest sequence in the batch (unless you set a fixed `output_sequence_length`):"
   ]
  },
  {
   "cell_type": "code",
   "execution_count": 550,
   "metadata": {
    "execution": {
     "iopub.execute_input": "2020-11-10T02:41:24.092448Z",
     "iopub.status.busy": "2020-11-10T02:41:24.091812Z",
     "iopub.status.idle": "2020-11-10T02:41:24.106347Z",
     "shell.execute_reply": "2020-11-10T02:41:24.106764Z"
    },
    "id": "RGc7C9WiwRWs"
   },
   "outputs": [
    {
     "data": {
      "text/plain": [
       "array([[ 262,    1,  762,   42,   30,    5,   38,  519,    0,    0],\n",
       "       [   2,   64,  270,   14,    9,    0,    0,    0,    0,    0],\n",
       "       [1889,   13,   31,  480,    1, 1282, 2052,    6,    0,    0]])"
      ]
     },
     "execution_count": 550,
     "metadata": {},
     "output_type": "execute_result"
    }
   ],
   "source": [
    "encoded_example = encoder(example)[:3].numpy()\n",
    "encoded_example"
   ]
  },
  {
   "cell_type": "markdown",
   "metadata": {
    "id": "F5cjz0bS39IN"
   },
   "source": [
    "With the default settings, the process is not completely reversible. There are three main reasns for that:\n",
    "\n",
    "1. The default value for `preprocessing.TextVectorization`'s `standardize` argument is `\"lower_and_strip_punctuation\"`.\n",
    "2. The limited vocabulary size and lack of character-based fallback results in some unknown tokens."
   ]
  },
  {
   "cell_type": "code",
   "execution_count": 551,
   "metadata": {
    "execution": {
     "iopub.execute_input": "2020-11-10T02:41:24.111645Z",
     "iopub.status.busy": "2020-11-10T02:41:24.111013Z",
     "iopub.status.idle": "2020-11-10T02:41:24.115772Z",
     "shell.execute_reply": "2020-11-10T02:41:24.116216Z"
    },
    "id": "N_tD0QY5wXaK"
   },
   "outputs": [
    {
     "name": "stdout",
     "output_type": "stream",
     "text": [
      "Original:  b'biden ronald reagan could win republican primary today'\n",
      "Round-trip:  biden [UNK] reagan could win republican primary today  \n",
      "\n",
      "Original:  b'republicans control presidency senate house'\n",
      "Round-trip:  republicans control presidency senate house     \n",
      "\n",
      "Original:  b'moderator democrat debate live mic oh god breitbart'\n",
      "Round-trip:  moderator democrat debate live [UNK] oh god breitbart  \n",
      "\n"
     ]
    }
   ],
   "source": [
    "for n in range(3):\n",
    "  print(\"Original: \", example[n].numpy())\n",
    "  print(\"Round-trip: \", \" \".join(vocab[encoded_example[n]]))\n",
    "  print()"
   ]
  },
  {
   "cell_type": "markdown",
   "metadata": {
    "id": "bjUqGVBxGw-t"
   },
   "source": [
    "## Create the model"
   ]
  },
  {
   "cell_type": "markdown",
   "metadata": {
    "id": "W7zsmInBOCPO"
   },
   "source": [
    "![A drawing of the information flow in the model](images/bidirectional.png)"
   ]
  },
  {
   "cell_type": "markdown",
   "metadata": {
    "id": "bgs6nnSTGw-t"
   },
   "source": [
    "Above is a diagram of the model. \n",
    "\n",
    "1. This model can be build as a `tf.keras.Sequential`.\n",
    "\n",
    "1. The first layer is the `encoder`, which converts the text to a sequence of token indices.\n",
    "\n",
    "2. After the encoder is an embedding layer. An embedding layer stores one vector per word. When called, it converts the sequences of word indices to sequences of vectors. These vectors are trainable. After training (on enough data), words with similar meanings often have similar vectors.\n",
    "\n",
    "  This index-lookup is much more efficient than the equivalent operation of passing a one-hot encoded vector through a `tf.keras.layers.Dense` layer.\n",
    "\n",
    "3. A recurrent neural network (RNN) processes sequence input by iterating through the elements. RNNs pass the outputs from one timestep to their input on the next timestep.\n",
    "\n",
    "  The `tf.keras.layers.Bidirectional` wrapper can also be used with an RNN layer. This propagates the input forward and backwards through the RNN layer and then concatenates the final output. \n",
    "\n",
    "  * The main advantage to a bidirectional RNN is that the signal from the beginning of the input doesn't need to be processed all the way through every timestep to affect the output.  \n",
    "\n",
    "  * The main disadvantage of a bidirectional RNN is that you can't efficiently stream predictions as words are being added to the end.\n",
    "\n",
    "1. After the RNN has converted the sequence to a single vector the two `layers.Dense` do some final processing, and convert from this vector representation to a single logit as the classification output. \n"
   ]
  },
  {
   "cell_type": "markdown",
   "metadata": {
    "id": "V4fodCI7soQi"
   },
   "source": [
    "The code to implement this is below:"
   ]
  },
  {
   "cell_type": "code",
   "execution_count": 552,
   "metadata": {
    "execution": {
     "iopub.execute_input": "2020-11-10T02:41:24.121725Z",
     "iopub.status.busy": "2020-11-10T02:41:24.121038Z",
     "iopub.status.idle": "2020-11-10T02:41:24.155014Z",
     "shell.execute_reply": "2020-11-10T02:41:24.154269Z"
    },
    "id": "LwfoBkmRYcP3"
   },
   "outputs": [],
   "source": [
    "model = tf.keras.Sequential([\n",
    "    encoder,\n",
    "    tf.keras.layers.Embedding(\n",
    "        input_dim=len(encoder.get_vocabulary()),\n",
    "        output_dim=64,\n",
    "        # Use masking to handle the variable sequence lengths\n",
    "        mask_zero=True),\n",
    "    tf.keras.layers.Bidirectional(tf.keras.layers.LSTM(64)),\n",
    "    tf.keras.layers.Dense(64, activation='relu'),\n",
    "    tf.keras.layers.Dense(1)\n",
    "])"
   ]
  },
  {
   "cell_type": "markdown",
   "metadata": {
    "id": "QIGmIGkkouUb"
   },
   "source": [
    "Please note that Keras sequential model is used here since all the layers in the model only have single input and produce single output. In case you want to use stateful RNN layer, you might want to build your model with Keras functional API or model subclassing so that you can retrieve and reuse the RNN layer states. Please check [Keras RNN guide](https://www.tensorflow.org/guide/keras/rnn#rnn_state_reuse) for more details."
   ]
  },
  {
   "cell_type": "markdown",
   "metadata": {
    "id": "kF-PsCk1LwjY"
   },
   "source": [
    "The embedding layer [uses masking](../../guide/keras/masking_and_padding) to handle the varying sequence-lengths. All the layers after the `Embedding` support masking:"
   ]
  },
  {
   "cell_type": "code",
   "execution_count": 553,
   "metadata": {
    "execution": {
     "iopub.execute_input": "2020-11-10T02:41:24.159987Z",
     "iopub.status.busy": "2020-11-10T02:41:24.159256Z",
     "iopub.status.idle": "2020-11-10T02:41:24.161963Z",
     "shell.execute_reply": "2020-11-10T02:41:24.162462Z"
    },
    "id": "87a8-CwfKebw"
   },
   "outputs": [
    {
     "name": "stdout",
     "output_type": "stream",
     "text": [
      "[False, True, True, True, True]\n"
     ]
    }
   ],
   "source": [
    "print([layer.supports_masking for layer in model.layers])"
   ]
  },
  {
   "cell_type": "markdown",
   "metadata": {
    "id": "ZlS0iaUIWLpI"
   },
   "source": [
    "To confirm that this works as expected, evaluate a sentence twice. First, alone so there's no padding to mask:"
   ]
  },
  {
   "cell_type": "code",
   "execution_count": 554,
   "metadata": {
    "execution": {
     "iopub.execute_input": "2020-11-10T02:41:24.168072Z",
     "iopub.status.busy": "2020-11-10T02:41:24.167320Z",
     "iopub.status.idle": "2020-11-10T02:41:30.445114Z",
     "shell.execute_reply": "2020-11-10T02:41:30.444586Z"
    },
    "id": "O41gw3KfWHus"
   },
   "outputs": [
    {
     "name": "stdout",
     "output_type": "stream",
     "text": [
      "WARNING:tensorflow:9 out of the last 12 calls to <function Model.make_predict_function.<locals>.predict_function at 0x15766d4c0> triggered tf.function retracing. Tracing is expensive and the excessive number of tracings could be due to (1) creating @tf.function repeatedly in a loop, (2) passing tensors with different shapes, (3) passing Python objects instead of tensors. For (1), please define your @tf.function outside of the loop. For (2), @tf.function has experimental_relax_shapes=True option that relaxes argument shapes that can avoid unnecessary retracing. For (3), please refer to https://www.tensorflow.org/tutorials/customization/performance#python_or_tensor_args and https://www.tensorflow.org/api_docs/python/tf/function for  more details.\n",
      "[0.01122385]\n"
     ]
    }
   ],
   "source": [
    "# predict on a sample text without padding.\n",
    "\n",
    "sample_text = ('Republicans lack agreement on Obamacare ahead of Trump speech')\n",
    "predictions = model.predict(np.array([sample_text]))\n",
    "print(predictions[0])"
   ]
  },
  {
   "cell_type": "markdown",
   "metadata": {
    "id": "K0VQmGnEWcuz"
   },
   "source": [
    "Now, evaluate it again in a batch with a longer sentence. The result should be identical:"
   ]
  },
  {
   "cell_type": "code",
   "execution_count": 555,
   "metadata": {
    "execution": {
     "iopub.execute_input": "2020-11-10T02:41:30.450463Z",
     "iopub.status.busy": "2020-11-10T02:41:30.449801Z",
     "iopub.status.idle": "2020-11-10T02:41:30.541207Z",
     "shell.execute_reply": "2020-11-10T02:41:30.540660Z"
    },
    "id": "UIgpuTeFNDzq"
   },
   "outputs": [
    {
     "name": "stdout",
     "output_type": "stream",
     "text": [
      "[0.01122384]\n"
     ]
    }
   ],
   "source": [
    "# predict on a sample text with padding\n",
    "\n",
    "padding = \"the \" * 2000\n",
    "predictions = model.predict(np.array([sample_text, padding]))\n",
    "print(predictions[0])"
   ]
  },
  {
   "cell_type": "markdown",
   "metadata": {
    "id": "sRI776ZcH3Tf"
   },
   "source": [
    "Compile the Keras model to configure the training process:"
   ]
  },
  {
   "cell_type": "code",
   "execution_count": 556,
   "metadata": {
    "execution": {
     "iopub.execute_input": "2020-11-10T02:41:30.554797Z",
     "iopub.status.busy": "2020-11-10T02:41:30.550154Z",
     "iopub.status.idle": "2020-11-10T02:41:30.564894Z",
     "shell.execute_reply": "2020-11-10T02:41:30.564371Z"
    },
    "id": "kj2xei41YZjC"
   },
   "outputs": [],
   "source": [
    "model.compile(loss=tf.keras.losses.BinaryCrossentropy(from_logits=True),\n",
    "              optimizer=tf.keras.optimizers.Adam(1e-4),\n",
    "              metrics=['accuracy'])"
   ]
  },
  {
   "cell_type": "markdown",
   "metadata": {
    "id": "zIwH3nto596k"
   },
   "source": [
    "## Train the model"
   ]
  },
  {
   "cell_type": "code",
   "execution_count": 557,
   "metadata": {
    "execution": {
     "iopub.execute_input": "2020-11-10T02:41:30.569722Z",
     "iopub.status.busy": "2020-11-10T02:41:30.569003Z",
     "iopub.status.idle": "2020-11-10T02:46:26.216444Z",
     "shell.execute_reply": "2020-11-10T02:46:26.215764Z"
    },
    "id": "hw86wWS4YgR2"
   },
   "outputs": [
    {
     "name": "stdout",
     "output_type": "stream",
     "text": [
      "Epoch 1/10\n",
      "194/194 [==============================] - 10s 51ms/step - loss: 0.6914 - accuracy: 0.5205 - val_loss: 0.6897 - val_accuracy: 0.5938\n",
      "Epoch 2/10\n",
      "194/194 [==============================] - 2s 11ms/step - loss: 0.6749 - accuracy: 0.5215 - val_loss: 0.6763 - val_accuracy: 0.6375\n",
      "Epoch 3/10\n",
      "194/194 [==============================] - 2s 11ms/step - loss: 0.5907 - accuracy: 0.6475 - val_loss: 0.9386 - val_accuracy: 0.6000\n",
      "Epoch 4/10\n",
      "194/194 [==============================] - 2s 11ms/step - loss: 0.4992 - accuracy: 0.7283 - val_loss: 0.8458 - val_accuracy: 0.6438\n",
      "Epoch 5/10\n",
      "194/194 [==============================] - 2s 11ms/step - loss: 0.4132 - accuracy: 0.7968 - val_loss: 1.0127 - val_accuracy: 0.6438\n",
      "Epoch 6/10\n",
      "194/194 [==============================] - 2s 11ms/step - loss: 0.3535 - accuracy: 0.8346 - val_loss: 1.3206 - val_accuracy: 0.5562\n",
      "Epoch 7/10\n",
      "194/194 [==============================] - 2s 11ms/step - loss: 0.3123 - accuracy: 0.8588 - val_loss: 1.7581 - val_accuracy: 0.5500\n",
      "Epoch 8/10\n",
      "194/194 [==============================] - 2s 11ms/step - loss: 0.2812 - accuracy: 0.8788 - val_loss: 2.0108 - val_accuracy: 0.5375\n",
      "Epoch 9/10\n",
      "194/194 [==============================] - 2s 11ms/step - loss: 0.2518 - accuracy: 0.8882 - val_loss: 1.9621 - val_accuracy: 0.5750\n",
      "Epoch 10/10\n",
      "194/194 [==============================] - 2s 11ms/step - loss: 0.2272 - accuracy: 0.9031 - val_loss: 2.6041 - val_accuracy: 0.5500\n"
     ]
    }
   ],
   "source": [
    "history = model.fit(train_dataset, epochs=10,\n",
    "                    validation_data=test_dataset, #testdataset required\n",
    "                    validation_steps=10)"
   ]
  },
  {
   "cell_type": "code",
   "execution_count": 558,
   "metadata": {
    "execution": {
     "iopub.execute_input": "2020-11-10T02:46:26.221163Z",
     "iopub.status.busy": "2020-11-10T02:46:26.220456Z",
     "iopub.status.idle": "2020-11-10T02:46:40.248236Z",
     "shell.execute_reply": "2020-11-10T02:46:40.247723Z"
    },
    "id": "BaNbXi43YgUT"
   },
   "outputs": [
    {
     "name": "stdout",
     "output_type": "stream",
     "text": [
      "44/44 [==============================] - 0s 7ms/step - loss: 1.9975 - accuracy: 0.6023\n",
      "Test Loss: 1.9975488185882568\n",
      "Test Accuracy: 0.6023222208023071\n"
     ]
    }
   ],
   "source": [
    "test_loss, test_acc = model.evaluate(test_dataset) # test_dataset required\n",
    "\n",
    "print('Test Loss: {}'.format(test_loss))\n",
    "print('Test Accuracy: {}'.format(test_acc))"
   ]
  },
  {
   "cell_type": "code",
   "execution_count": 559,
   "metadata": {
    "execution": {
     "iopub.execute_input": "2020-11-10T02:46:40.264945Z",
     "iopub.status.busy": "2020-11-10T02:46:40.264379Z",
     "iopub.status.idle": "2020-11-10T02:46:40.521014Z",
     "shell.execute_reply": "2020-11-10T02:46:40.521489Z"
    },
    "id": "OZmwt_mzaQJk"
   },
   "outputs": [
    {
     "data": {
      "text/plain": [
       "(0.0, 2.7229900650680063)"
      ]
     },
     "execution_count": 559,
     "metadata": {},
     "output_type": "execute_result"
    },
    {
     "data": {
      "image/png": "[encoded data removed]",
      "text/plain": [
       "<Figure size 1152x576 with 2 Axes>"
      ]
     },
     "metadata": {
      "needs_background": "light"
     },
     "output_type": "display_data"
    }
   ],
   "source": [
    "plt.figure(figsize=(16,8))\n",
    "plt.subplot(1,2,1)\n",
    "plot_graphs(history, 'accuracy')\n",
    "plt.ylim(None,1)\n",
    "plt.subplot(1,2,2)\n",
    "plot_graphs(history, 'loss')\n",
    "plt.ylim(0,None)"
   ]
  },
  {
   "cell_type": "markdown",
   "metadata": {
    "id": "DwSE_386uhxD"
   },
   "source": [
    "Run a prediction on a neew sentence:\n",
    "\n",
    "If the prediction is >= 0.0, it is positive else it is negative."
   ]
  },
  {
   "cell_type": "code",
   "execution_count": 560,
   "metadata": {
    "execution": {
     "iopub.execute_input": "2020-11-10T02:46:40.526310Z",
     "iopub.status.busy": "2020-11-10T02:46:40.525618Z",
     "iopub.status.idle": "2020-11-10T02:46:42.527252Z",
     "shell.execute_reply": "2020-11-10T02:46:42.527710Z"
    },
    "id": "ZXgfQSgRW6zU"
   },
   "outputs": [
    {
     "name": "stdout",
     "output_type": "stream",
     "text": [
      "WARNING:tensorflow:8 out of the last 11 calls to <function Model.make_predict_function.<locals>.predict_function at 0x14e79eee0> triggered tf.function retracing. Tracing is expensive and the excessive number of tracings could be due to (1) creating @tf.function repeatedly in a loop, (2) passing tensors with different shapes, (3) passing Python objects instead of tensors. For (1), please define your @tf.function outside of the loop. For (2), @tf.function has experimental_relax_shapes=True option that relaxes argument shapes that can avoid unnecessary retracing. For (3), please refer to https://www.tensorflow.org/tutorials/customization/performance#python_or_tensor_args and https://www.tensorflow.org/api_docs/python/tf/function for  more details.\n",
      "[[ 4.434865]\n",
      " [-9.360585]]\n"
     ]
    }
   ],
   "source": [
    "# predict on a sample text without padding.\n",
    "\n",
    "sample_text1 = ('White House, Congress Republicans nearing key tax overhaul decisions')\n",
    "sample_text2 = ('Democrats Hope Sunday Obamacare Rallies Can Help Them Regain Momentum ')\n",
    "\n",
    "predictions = model.predict(np.array([sample_text1, sample_text2]))\n",
    "print(predictions)"
   ]
  },
  {
   "cell_type": "markdown",
   "metadata": {
    "id": "7g1evcaRpTKm"
   },
   "source": [
    "## Stack two or more LSTM layers\n",
    "\n",
    "Keras recurrent layers have two available modes that are controlled by the `return_sequences` constructor argument:\n",
    "\n",
    "* If `False` it returns only the last output for each input sequence (a 2D tensor of shape (batch_size, output_features)). This is the default, used in the previous model.\n",
    "\n",
    "* If `True` the full sequences of successive outputs for each timestep is returned (a 3D tensor of shape `(batch_size, timesteps, output_features)`).\n",
    "\n",
    "Here is what the flow of information looks like with `return_sequences=True`:\n",
    "\n",
    "![layered_bidirectional](images/layered_bidirectional.ipynb)"
   ]
  },
  {
   "cell_type": "markdown",
   "metadata": {
    "id": "wbSClCrG1z8l"
   },
   "source": [
    "The interesting thing about using an `RNN` with `return_sequences=True` is that the output still has 3-axes, like the input, so it can be passed to another RNN layer, like this:"
   ]
  },
  {
   "cell_type": "code",
   "execution_count": 561,
   "metadata": {
    "execution": {
     "iopub.execute_input": "2020-11-10T02:46:42.534213Z",
     "iopub.status.busy": "2020-11-10T02:46:42.533583Z",
     "iopub.status.idle": "2020-11-10T02:46:42.567937Z",
     "shell.execute_reply": "2020-11-10T02:46:42.568400Z"
    },
    "id": "jo1jjO3vn0jo"
   },
   "outputs": [],
   "source": [
    "model = tf.keras.Sequential([\n",
    "    encoder,\n",
    "    tf.keras.layers.Embedding(len(encoder.get_vocabulary()), 64, mask_zero=True),\n",
    "    tf.keras.layers.Bidirectional(tf.keras.layers.LSTM(64,  return_sequences=True)),\n",
    "    tf.keras.layers.Bidirectional(tf.keras.layers.LSTM(32)),\n",
    "    tf.keras.layers.Dense(64, activation='relu'),\n",
    "    tf.keras.layers.Dropout(0.5),\n",
    "    tf.keras.layers.Dense(1)\n",
    "])"
   ]
  },
  {
   "cell_type": "code",
   "execution_count": 562,
   "metadata": {
    "execution": {
     "iopub.execute_input": "2020-11-10T02:46:42.577925Z",
     "iopub.status.busy": "2020-11-10T02:46:42.577110Z",
     "iopub.status.idle": "2020-11-10T02:46:42.582184Z",
     "shell.execute_reply": "2020-11-10T02:46:42.581663Z"
    },
    "id": "hEPV5jVGp-is"
   },
   "outputs": [],
   "source": [
    "model.compile(loss=tf.keras.losses.BinaryCrossentropy(from_logits=True),\n",
    "              optimizer=tf.keras.optimizers.Adam(1e-4),\n",
    "              metrics=['accuracy'])"
   ]
  },
  {
   "cell_type": "code",
   "execution_count": 563,
   "metadata": {
    "execution": {
     "iopub.execute_input": "2020-11-10T02:46:42.586619Z",
     "iopub.status.busy": "2020-11-10T02:46:42.585854Z",
     "iopub.status.idle": "2020-11-10T02:55:26.734344Z",
     "shell.execute_reply": "2020-11-10T02:55:26.733842Z"
    },
    "id": "LeSE-YjdqAeN"
   },
   "outputs": [
    {
     "name": "stdout",
     "output_type": "stream",
     "text": [
      "Epoch 1/10\n",
      "194/194 [==============================] - 9s 49ms/step - loss: 0.6921 - accuracy: 0.5205 - val_loss: 0.6903 - val_accuracy: 0.5417\n",
      "Epoch 2/10\n",
      "194/194 [==============================] - 5s 26ms/step - loss: 0.6821 - accuracy: 0.5205 - val_loss: 0.6724 - val_accuracy: 0.5312\n",
      "Epoch 3/10\n",
      "194/194 [==============================] - 4s 21ms/step - loss: 0.6010 - accuracy: 0.6288 - val_loss: 0.7859 - val_accuracy: 0.6167\n",
      "Epoch 4/10\n",
      "194/194 [==============================] - 4s 19ms/step - loss: 0.5087 - accuracy: 0.7176 - val_loss: 0.9723 - val_accuracy: 0.6146\n",
      "Epoch 5/10\n",
      "194/194 [==============================] - 4s 20ms/step - loss: 0.4245 - accuracy: 0.7900 - val_loss: 1.2881 - val_accuracy: 0.5562\n",
      "Epoch 6/10\n",
      "194/194 [==============================] - 4s 21ms/step - loss: 0.3566 - accuracy: 0.8394 - val_loss: 1.4176 - val_accuracy: 0.5833\n",
      "Epoch 7/10\n",
      "194/194 [==============================] - 5s 25ms/step - loss: 0.3097 - accuracy: 0.8759 - val_loss: 1.6140 - val_accuracy: 0.5896\n",
      "Epoch 8/10\n",
      "194/194 [==============================] - 4s 20ms/step - loss: 0.2792 - accuracy: 0.8892 - val_loss: 1.5888 - val_accuracy: 0.6229\n",
      "Epoch 9/10\n",
      "194/194 [==============================] - 4s 19ms/step - loss: 0.2357 - accuracy: 0.9047 - val_loss: 1.8237 - val_accuracy: 0.6104\n",
      "Epoch 10/10\n",
      "194/194 [==============================] - 4s 19ms/step - loss: 0.2100 - accuracy: 0.9189 - val_loss: 2.0066 - val_accuracy: 0.5979\n"
     ]
    }
   ],
   "source": [
    "history = model.fit(train_dataset, epochs=10,\n",
    "                    validation_data=test_dataset,\n",
    "                    validation_steps=30)"
   ]
  },
  {
   "cell_type": "code",
   "execution_count": 564,
   "metadata": {
    "execution": {
     "iopub.execute_input": "2020-11-10T02:55:26.739395Z",
     "iopub.status.busy": "2020-11-10T02:55:26.738758Z",
     "iopub.status.idle": "2020-11-10T02:55:49.278955Z",
     "shell.execute_reply": "2020-11-10T02:55:49.278459Z"
    },
    "id": "_LdwilM1qPM3"
   },
   "outputs": [
    {
     "name": "stdout",
     "output_type": "stream",
     "text": [
      "44/44 [==============================] - 0s 7ms/step - loss: 1.8918 - accuracy: 0.6284\n",
      "Test Loss: 1.8917521238327026\n",
      "Test Accuracy: 0.6284469962120056\n"
     ]
    }
   ],
   "source": [
    "test_loss, test_acc = model.evaluate(test_dataset)\n",
    "\n",
    "print('Test Loss: {}'.format(test_loss))\n",
    "print('Test Accuracy: {}'.format(test_acc))"
   ]
  },
  {
   "cell_type": "code",
   "execution_count": 565,
   "metadata": {
    "execution": {
     "iopub.execute_input": "2020-11-10T02:55:49.283124Z",
     "iopub.status.busy": "2020-11-10T02:55:49.282565Z",
     "iopub.status.idle": "2020-11-10T02:55:52.660057Z",
     "shell.execute_reply": "2020-11-10T02:55:52.659600Z"
    },
    "id": "ykUKnAoqbycW"
   },
   "outputs": [
    {
     "name": "stdout",
     "output_type": "stream",
     "text": [
      "WARNING:tensorflow:8 out of the last 11 calls to <function Model.make_predict_function.<locals>.predict_function at 0x15468bf70> triggered tf.function retracing. Tracing is expensive and the excessive number of tracings could be due to (1) creating @tf.function repeatedly in a loop, (2) passing tensors with different shapes, (3) passing Python objects instead of tensors. For (1), please define your @tf.function outside of the loop. For (2), @tf.function has experimental_relax_shapes=True option that relaxes argument shapes that can avoid unnecessary retracing. For (3), please refer to https://www.tensorflow.org/tutorials/customization/performance#python_or_tensor_args and https://www.tensorflow.org/api_docs/python/tf/function for  more details.\n",
      "[[ 2.9392362]\n",
      " [-8.123318 ]]\n"
     ]
    }
   ],
   "source": [
    "# predict on a sample text without padding.\n",
    "\n",
    "sample_text1 = ('White House, Congress Republicans nearing key tax overhaul decisions')\n",
    "sample_text2 = ('Democrats Hope Sunday Obamacare Rallies Can Help Them Regain Momentum ')\n",
    "\n",
    "predictions = model.predict(np.array([sample_text1, sample_text2]))\n",
    "print(predictions)"
   ]
  },
  {
   "cell_type": "code",
   "execution_count": 566,
   "metadata": {
    "execution": {
     "iopub.execute_input": "2020-11-10T02:55:52.676955Z",
     "iopub.status.busy": "2020-11-10T02:55:52.676383Z",
     "iopub.status.idle": "2020-11-10T02:55:52.899997Z",
     "shell.execute_reply": "2020-11-10T02:55:52.899421Z"
    },
    "id": "_YYub0EDtwCu"
   },
   "outputs": [
    {
     "data": {
      "image/png": "[encoded data removed]",
      "text/plain": [
       "<Figure size 1152x432 with 2 Axes>"
      ]
     },
     "metadata": {
      "needs_background": "light"
     },
     "output_type": "display_data"
    }
   ],
   "source": [
    "plt.figure(figsize=(16,6))\n",
    "plt.subplot(1,2,1)\n",
    "plot_graphs(history, 'accuracy')\n",
    "plt.subplot(1,2,2)\n",
    "plot_graphs(history, 'loss')"
   ]
  },
  {
   "cell_type": "markdown",
   "metadata": {
    "id": "9xvpE3BaGw_V"
   },
   "source": [
    "\n"
   ]
  }
 ],
 "metadata": {
  "accelerator": "GPU",
  "colab": {
   "collapsed_sections": [],
   "name": "text_classification_rnn.ipynb",
   "toc_visible": true
  },
  "kernelspec": {
   "display_name": "Python 3",
   "language": "python",
   "name": "python3"
  },
  "language_info": {
   "codemirror_mode": {
    "name": "ipython",
    "version": 3
   },
   "file_extension": ".py",
   "mimetype": "text/x-python",
   "name": "python",
   "nbconvert_exporter": "python",
   "pygments_lexer": "ipython3",
   "version": "3.8.5"
  }
 },
 "nbformat": 4,
 "nbformat_minor": 1
}
