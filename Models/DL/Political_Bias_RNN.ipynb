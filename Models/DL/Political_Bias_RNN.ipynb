{
 "cells": [
  {
   "cell_type": "markdown",
   "metadata": {
    "id": "9TnJztDZGw-n"
   },
   "source": [
    "# Detecting Political Bias with an RNN"
   ]
  },
  {
   "cell_type": "markdown",
   "metadata": {
    "id": "_2VQo4bajwUU"
   },
   "source": [
    "## Setup"
   ]
  },
  {
   "cell_type": "code",
   "execution_count": 53,
   "metadata": {
    "execution": {
     "iopub.execute_input": "2020-11-10T02:40:17.842796Z",
     "iopub.status.busy": "2020-11-10T02:40:17.842105Z",
     "iopub.status.idle": "2020-11-10T02:40:24.418420Z",
     "shell.execute_reply": "2020-11-10T02:40:24.418864Z"
    },
    "id": "z682XYsrjkY9"
   },
   "outputs": [
    {
     "data": {
      "text/plain": [
       "'2.3.0'"
      ]
     },
     "execution_count": 53,
     "metadata": {},
     "output_type": "execute_result"
    }
   ],
   "source": [
    "import pathlib\n",
    "import os\n",
    "import math, random\n",
    "\n",
    "import numpy as np\n",
    "import tensorflow as tf\n",
    "from tensorflow.keras import utils\n",
    "\n",
    "from tensorflow.keras import preprocessing\n",
    "\n",
    "tf.__version__\n"
   ]
  },
  {
   "cell_type": "markdown",
   "metadata": {
    "id": "1rXHa-w9JZhb"
   },
   "source": [
    "Import `matplotlib` and create a helper function to plot graphs:"
   ]
  },
  {
   "cell_type": "code",
   "execution_count": 54,
   "metadata": {
    "execution": {
     "iopub.execute_input": "2020-11-10T02:40:24.424875Z",
     "iopub.status.busy": "2020-11-10T02:40:24.424198Z",
     "iopub.status.idle": "2020-11-10T02:40:24.426540Z",
     "shell.execute_reply": "2020-11-10T02:40:24.426024Z"
    },
    "id": "Mp1Z7P9pYRSK"
   },
   "outputs": [],
   "source": [
    "import matplotlib.pyplot as plt\n",
    "\n",
    "def plot_graphs(history, metric):\n",
    "  plt.plot(history.history[metric])\n",
    "  plt.plot(history.history['val_'+metric], '')\n",
    "  plt.xlabel(\"Epochs\")\n",
    "  plt.ylabel(metric)\n",
    "  plt.legend([metric, 'val_'+ metric])"
   ]
  },
  {
   "cell_type": "markdown",
   "metadata": {
    "id": "pRmMubr0jrE2"
   },
   "source": [
    "## Setup input pipeline\n",
    "\n",
    "\n"
   ]
  },
  {
   "cell_type": "code",
   "execution_count": 55,
   "metadata": {
    "execution": {
     "iopub.execute_input": "2020-11-10T02:40:24.431518Z",
     "iopub.status.busy": "2020-11-10T02:40:24.430866Z",
     "iopub.status.idle": "2020-11-10T02:41:19.248959Z",
     "shell.execute_reply": "2020-11-10T02:41:19.249452Z"
    },
    "id": "SHRwRoP2nVHX"
   },
   "outputs": [
    {
     "name": "stdout",
     "output_type": "stream",
     "text": [
      "/Users/muhammadrafay/Desktop/UIUC/Fall2020/CS410_Text_Information_Systems/Final Project/Political_Bias_NLP/Data/Train\n",
      "/Users/muhammadrafay/Desktop/UIUC/Fall2020/CS410_Text_Information_Systems/Final Project/Political_Bias_NLP/Data/Test\n"
     ]
    }
   ],
   "source": [
    "cwd = os.getcwd()\n",
    "train_dir = pathlib.Path(cwd).parent.parent/'Data'/'Train'\n",
    "test_dir = pathlib.Path(cwd).parent.parent/'Data'/'Test'\n",
    "\n",
    "print(train_dir)\n",
    "print(test_dir)\n",
    "\n",
    "\n",
    "\n"
   ]
  },
  {
   "cell_type": "code",
   "execution_count": 56,
   "metadata": {},
   "outputs": [],
   "source": [
    "\n",
    "train_split = 0.7\n",
    "\n",
    "\n",
    "cwd = os.getcwd()\n",
    "\n",
    "labeled_left_dir = pathlib.Path.joinpath(dataset_dir.parent, \"Labeled_Data/Left/Left.txt\")\n",
    "labeled_right_dir = pathlib.Path.joinpath(dataset_dir.parent, \"Labeled_Data/Right/Right.txt\")\n",
    "\n",
    "Train_left_dir = pathlib.Path.joinpath(dataset_dir.parent, \"Train/Left\")\n",
    "Train_right_dir = pathlib.Path.joinpath(dataset_dir.parent, \"Train/Right\")\n",
    "\n",
    "Test_left_dir = pathlib.Path.joinpath(dataset_dir.parent, \"Test/Left\")\n",
    "Test_right_dir = pathlib.Path.joinpath(dataset_dir.parent, \"Test/Right\")\n",
    "\n",
    "labeled_dirs = [labeled_left_dir, labeled_right_dir]\n",
    "train_dirs = [Train_left_dir, Train_right_dir]\n",
    "test_dirs = [Test_left_dir, Test_right_dir]\n",
    "\n",
    "\n",
    "for dr in range(2):\n",
    "\n",
    "    f = open(labeled_dirs[dr], \"r\")\n",
    "    lines = f.readlines()\n",
    "\n",
    "    \n",
    "    arr = np.arange(0,len(lines))\n",
    "    np.random.shuffle(arr)\n",
    "    \n",
    "    nTrain = math.floor(len(lines)*train_split)\n",
    "    \n",
    "    \n",
    "    c = 0  \n",
    "    for i in range(nTrain):\n",
    "        c = c + 1                                   \n",
    "        file_path = pathlib.Path.joinpath(train_dirs[dr], str(c) + '.txt')                                    \n",
    "        nf = open(file_path, \"w\")\n",
    "        nf.write(lines[arr[i]])\n",
    "    \n",
    "    c = 0\n",
    "    for i in range(nTrain, len(lines)):\n",
    "        c = c + 1                                   \n",
    "        file_path = pathlib.Path.joinpath(test_dirs[dr], str(c) + '.txt')                                    \n",
    "        nf = open(file_path, \"w\")\n",
    "        nf.write(lines[arr[i]])\n",
    "\n",
    "\n"
   ]
  },
  {
   "cell_type": "code",
   "execution_count": 57,
   "metadata": {},
   "outputs": [
    {
     "name": "stdout",
     "output_type": "stream",
     "text": [
      "Found 404 files belonging to 2 classes.\n",
      "Found 175 files belonging to 2 classes.\n"
     ]
    }
   ],
   "source": [
    "batch_size = 16\n",
    "seed = 42\n",
    "\n",
    "\n",
    "raw_train_ds = preprocessing.text_dataset_from_directory(\n",
    "    train_dir,\n",
    "    batch_size=batch_size,\n",
    "    seed=seed)\n",
    "\n",
    "raw_test_ds = preprocessing.text_dataset_from_directory(\n",
    "    test_dir,\n",
    "    batch_size=batch_size,\n",
    "    seed=seed)\n"
   ]
  },
  {
   "cell_type": "code",
   "execution_count": 58,
   "metadata": {},
   "outputs": [
    {
     "name": "stdout",
     "output_type": "stream",
     "text": [
      "Question:  b'What Does It Mean to Be a Republican?\\n' ...\n",
      "Label: 1\n",
      "Question:  b'Are Democrats Wasting Their Time Taking On the Electoral College?\\n' ...\n",
      "Label: 0\n",
      "Question:  b'Democratic lawmakers launch blast at inspectors general in Clinton email probe\\n' ...\n",
      "Label: 0\n",
      "Question:  b'Who Will Republican Voters Blame for the Failure of the GOP Health-Care Bill?\\n' ...\n",
      "Label: 1\n",
      "Question:  b'Republicans angling for posh ambassadorships, RNC chair\\n' ...\n",
      "Label: 1\n",
      "Question:  b'Nevada Democratic Convention becomes \\xe2\\x80\\x99unruly and unpredictable\\xe2\\x80\\x99 amid rules disputes over delegat' ...\n",
      "Label: 0\n",
      "Question:  b'The Democrats fighting the legal battles against Trump\\n' ...\n",
      "Label: 0\n",
      "Question:  b'Democrats review Clinton\\xe2\\x80\\x99s convention message \\n' ...\n",
      "Label: 0\n",
      "Question:  b'The Art of the Republican National Convention\\n' ...\n",
      "Label: 1\n",
      "Question:  b'Lynch, Justice opposed Comey\\xe2\\x80\\x99s Clinton email letter; Democrats in Senate demand answers\\n' ...\n",
      "Label: 0\n",
      "Question:  b'Republicans\\xe2\\x80\\x99 New Plan to Gut Public Insurance\\n' ...\n",
      "Label: 1\n",
      "Question:  b'House Republicans pull plan to gut independent ethics committee  after Trump tweets\\n' ...\n",
      "Label: 1\n",
      "Question:  b'Top Republicans who opposed Syria attack under Obama are now praising Trump\\xe2\\x80\\x99s strike\\n' ...\n",
      "Label: 1\n",
      "Question:  b'FBI investigating possible hack of Democratic Party staffer cell phones\\n' ...\n",
      "Label: 0\n",
      "Question:  b'Trump Is on the Verge of Losing Even Republicans\\n' ...\n",
      "Label: 1\n",
      "Question:  b'Clinton, Sanders agree to Democratic debate in Brooklyn before New York primary\\n' ...\n",
      "Label: 0\n",
      "Question:  b'title\\n' ...\n",
      "Label: 1\n",
      "Question:  b'Sanders campaign reportedly divided over whether to take fight to Democratic convention\\n' ...\n",
      "Label: 0\n",
      "Question:  b'Lifelong Republican to Speaker Ryan: Obamacare saved my life      \\n' ...\n",
      "Label: 1\n",
      "Question:  b'Why Won\\xe2\\x80\\x99t More Republicans Privately Voting for Clinton Say So in Public?\\n' ...\n",
      "Label: 1\n"
     ]
    }
   ],
   "source": [
    "for text_batch, label_batch in raw_train_ds.take(2):\n",
    "    for i in range(10):\n",
    "        print(\"Question: \", text_batch.numpy()[i][:100], '...')\n",
    "        print(\"Label:\", label_batch.numpy()[i])"
   ]
  },
  {
   "cell_type": "code",
   "execution_count": 59,
   "metadata": {},
   "outputs": [
    {
     "name": "stdout",
     "output_type": "stream",
     "text": [
      "Label 0 corresponds to Left\n",
      "Label 1 corresponds to Right\n"
     ]
    }
   ],
   "source": [
    "for i, label in enumerate(raw_train_ds.class_names):\n",
    "  print(\"Label\", i, \"corresponds to\", label)"
   ]
  },
  {
   "cell_type": "markdown",
   "metadata": {
    "id": "nWA4c2ir7g6p"
   },
   "source": [
    "Initially this returns a dataset of (text, label pairs):"
   ]
  },
  {
   "cell_type": "code",
   "execution_count": 60,
   "metadata": {
    "execution": {
     "iopub.execute_input": "2020-11-10T02:41:19.254724Z",
     "iopub.status.busy": "2020-11-10T02:41:19.254014Z",
     "iopub.status.idle": "2020-11-10T02:41:19.293169Z",
     "shell.execute_reply": "2020-11-10T02:41:19.293669Z"
    },
    "id": "vd4_BGKyurao"
   },
   "outputs": [
    {
     "name": "stdout",
     "output_type": "stream",
     "text": [
      "text:  [b'Lynch, Justice opposed Comey\\xe2\\x80\\x99s Clinton email letter; Democrats in Senate demand answers\\n'\n",
      " b'title\\n' b'The Democrats fighting the legal battles against Trump\\n'\n",
      " b'CIA report of Russia interference in 2016 race divides Republicans\\n'\n",
      " b'Republicans Rally Around Paul Ryan\\n'\n",
      " b'White House sees Democrats lining up on Iran\\n'\n",
      " b'Can this Democrat really beat Hillary Clinton?\\n'\n",
      " b'How James Comey Hurt the FBI\\xe2\\x80\\x94and the Democratic Process\\n'\n",
      " b'Bernie Sanders \\xe2\\x80\\x99humiliated\\xe2\\x80\\x99 Democrats can\\xe2\\x80\\x99t talk to \\xe2\\x80\\x99white working class\\xe2\\x80\\x99 voters\\n'\n",
      " b'Pennsylvania Democrat Chaka Fattah Found Guilty \\n'\n",
      " b'Why Won\\xe2\\x80\\x99t More Republicans Privately Voting for Clinton Say So in Public?\\n'\n",
      " b'Watching the Benghazi Film, 13 Hours, With a Republican Crowd\\n'\n",
      " b'A message for my fellow Republicans: If you back Trump you will not be trusted again\\n'\n",
      " b'9/11 record of Republican \\xe2\\x80\\x99faithless elector\\xe2\\x80\\x99 called into question\\n'\n",
      " b'Democratic draft platform seeks DOJ probe of fossil fuel companies\\n'\n",
      " b'Trump Card? Republican voter registration a bright spot for campaign\\n']\n",
      "label:  [0 1 0 1 1 0 0 0 0 0 1 1 1 1 0 1]\n"
     ]
    }
   ],
   "source": [
    "for example, label in train_dataset.take(1):\n",
    "  print('text: ', example.numpy())\n",
    "  print('label: ', label.numpy())"
   ]
  },
  {
   "cell_type": "markdown",
   "metadata": {
    "id": "z2qVJzcEluH_"
   },
   "source": [
    "Next shuffle the data for training and create batches of these `(text, label)` pairs:"
   ]
  },
  {
   "cell_type": "code",
   "execution_count": 61,
   "metadata": {
    "execution": {
     "iopub.execute_input": "2020-11-10T02:41:19.298346Z",
     "iopub.status.busy": "2020-11-10T02:41:19.297481Z",
     "iopub.status.idle": "2020-11-10T02:41:19.299638Z",
     "shell.execute_reply": "2020-11-10T02:41:19.300089Z"
    },
    "id": "dDsCaZCDYZgm"
   },
   "outputs": [],
   "source": [
    "BUFFER_SIZE = 10000\n",
    "BATCH_SIZE = 64"
   ]
  },
  {
   "cell_type": "code",
   "execution_count": 62,
   "metadata": {
    "execution": {
     "iopub.execute_input": "2020-11-10T02:41:19.305015Z",
     "iopub.status.busy": "2020-11-10T02:41:19.304176Z",
     "iopub.status.idle": "2020-11-10T02:41:19.307466Z",
     "shell.execute_reply": "2020-11-10T02:41:19.307875Z"
    },
    "id": "VznrltNOnUc5"
   },
   "outputs": [],
   "source": [
    "train_dataset = raw_train_ds\n",
    "test_dataset =  raw_test_ds\n",
    "#train_dataset = train_dataset.shuffle(BUFFER_SIZE).batch(BATCH_SIZE).prefetch(tf.data.experimental.AUTOTUNE)\n",
    "#test_dataset = test_dataset.batch(BATCH_SIZE).prefetch(tf.data.experimental.AUTOTUNE)"
   ]
  },
  {
   "cell_type": "code",
   "execution_count": 63,
   "metadata": {
    "execution": {
     "iopub.execute_input": "2020-11-10T02:41:19.312221Z",
     "iopub.status.busy": "2020-11-10T02:41:19.311533Z",
     "iopub.status.idle": "2020-11-10T02:41:19.554846Z",
     "shell.execute_reply": "2020-11-10T02:41:19.555323Z"
    },
    "id": "jqkvdcFv41wC"
   },
   "outputs": [
    {
     "name": "stdout",
     "output_type": "stream",
     "text": [
      "texts:  [b'The Feedback Loop of Doom for Democratic Norms\\n'\n",
      " b'Democrats protest Trump\\xe2\\x80\\x99s travel ban outside Supreme Court\\n'\n",
      " b'Can this Democrat really beat Hillary Clinton?\\n']\n",
      "\n",
      "labels:  [0 0 0]\n"
     ]
    }
   ],
   "source": [
    "for example, label in train_dataset.take(1):\n",
    "  print('texts: ', example.numpy()[:3])\n",
    "  print()\n",
    "  print('labels: ', label.numpy()[:3])"
   ]
  },
  {
   "cell_type": "markdown",
   "metadata": {
    "id": "s5eWCo88voPY"
   },
   "source": [
    "## Create the text encoder"
   ]
  },
  {
   "cell_type": "markdown",
   "metadata": {
    "id": "TFevcItw15P_"
   },
   "source": [
    "The raw text loaded by `tfds` needs to be processed before it can be used in a model. The simplest way to process text for training is using the `experimental.preprocessing.TextVectorization` layer. This layer has many capabilities, but this tutorial sticks to the default behavior.\n",
    "\n",
    "Create the layer, and pass the dataset's text to the layer's `.adapt` method:"
   ]
  },
  {
   "cell_type": "code",
   "execution_count": 64,
   "metadata": {
    "execution": {
     "iopub.execute_input": "2020-11-10T02:41:19.572993Z",
     "iopub.status.busy": "2020-11-10T02:41:19.560125Z",
     "iopub.status.idle": "2020-11-10T02:41:24.078435Z",
     "shell.execute_reply": "2020-11-10T02:41:24.077811Z"
    },
    "id": "uC25Lu1Yvuqy"
   },
   "outputs": [],
   "source": [
    "VOCAB_SIZE=5000\n",
    "encoder = tf.keras.layers.experimental.preprocessing.TextVectorization(\n",
    "    max_tokens=VOCAB_SIZE)\n",
    "encoder.adapt(train_dataset.map(lambda text, label: text))"
   ]
  },
  {
   "cell_type": "markdown",
   "metadata": {
    "id": "IuQzVBbe3Ldu"
   },
   "source": [
    "The `.adapt` method sets the layer's vocabulary. Here are the first 20 tokens. After the padding and unknown tokens they're sorted by frequency: "
   ]
  },
  {
   "cell_type": "code",
   "execution_count": 65,
   "metadata": {
    "execution": {
     "iopub.execute_input": "2020-11-10T02:41:24.083459Z",
     "iopub.status.busy": "2020-11-10T02:41:24.082778Z",
     "iopub.status.idle": "2020-11-10T02:41:24.088082Z",
     "shell.execute_reply": "2020-11-10T02:41:24.087462Z"
    },
    "id": "tBoyjjWg0Ac9"
   },
   "outputs": [
    {
     "data": {
      "text/plain": [
       "array(['', '[UNK]', 'the', 'republicans', 'to', 'democrats', 'democratic',\n",
       "       'republican', 'trump', 'on', 'for', 'in', 'clinton', 'a', 'of',\n",
       "       'convention', 'house', 'and', 'democrat', 'is'], dtype='<U16')"
      ]
     },
     "execution_count": 65,
     "metadata": {},
     "output_type": "execute_result"
    }
   ],
   "source": [
    "vocab = np.array(encoder.get_vocabulary())\n",
    "vocab[:20]"
   ]
  },
  {
   "cell_type": "markdown",
   "metadata": {
    "id": "mjId5pua3jHQ"
   },
   "source": [
    "Once the vocabulary is set, the layer can encode text into indices. The tensors of indices are 0-padded to the longest sequence in the batch (unless you set a fixed `output_sequence_length`):"
   ]
  },
  {
   "cell_type": "code",
   "execution_count": 66,
   "metadata": {
    "execution": {
     "iopub.execute_input": "2020-11-10T02:41:24.092448Z",
     "iopub.status.busy": "2020-11-10T02:41:24.091812Z",
     "iopub.status.idle": "2020-11-10T02:41:24.106347Z",
     "shell.execute_reply": "2020-11-10T02:41:24.106764Z"
    },
    "id": "RGc7C9WiwRWs"
   },
   "outputs": [
    {
     "data": {
      "text/plain": [
       "array([[   2,  995,  837,   14, 1042,   10,    6,  783,    0,    0,    0,\n",
       "           0,    0],\n",
       "       [   5,  301,   26,  566, 1184,  766,  268,  410,    0,    0,    0,\n",
       "           0,    0],\n",
       "       [  34,   95,   18,   74, 1179,   42,   12,    0,    0,    0,    0,\n",
       "           0,    0]])"
      ]
     },
     "execution_count": 66,
     "metadata": {},
     "output_type": "execute_result"
    }
   ],
   "source": [
    "encoded_example = encoder(example)[:3].numpy()\n",
    "encoded_example"
   ]
  },
  {
   "cell_type": "markdown",
   "metadata": {
    "id": "F5cjz0bS39IN"
   },
   "source": [
    "With the default settings, the process is not completely reversible. There are three main reasns for that:\n",
    "\n",
    "1. The default value for `preprocessing.TextVectorization`'s `standardize` argument is `\"lower_and_strip_punctuation\"`.\n",
    "2. The limited vocabulary size and lack of character-based fallback results in some unknown tokens."
   ]
  },
  {
   "cell_type": "code",
   "execution_count": 67,
   "metadata": {
    "execution": {
     "iopub.execute_input": "2020-11-10T02:41:24.111645Z",
     "iopub.status.busy": "2020-11-10T02:41:24.111013Z",
     "iopub.status.idle": "2020-11-10T02:41:24.115772Z",
     "shell.execute_reply": "2020-11-10T02:41:24.116216Z"
    },
    "id": "N_tD0QY5wXaK"
   },
   "outputs": [
    {
     "name": "stdout",
     "output_type": "stream",
     "text": [
      "Original:  b'The Feedback Loop of Doom for Democratic Norms\\n'\n",
      "Round-trip:  the feedback loop of doom for democratic norms     \n",
      "\n",
      "Original:  b'Democrats protest Trump\\xe2\\x80\\x99s travel ban outside Supreme Court\\n'\n",
      "Round-trip:  democrats protest trump’s travel ban outside supreme court     \n",
      "\n",
      "Original:  b'Can this Democrat really beat Hillary Clinton?\\n'\n",
      "Round-trip:  can this democrat really beat hillary clinton      \n",
      "\n"
     ]
    }
   ],
   "source": [
    "for n in range(3):\n",
    "  print(\"Original: \", example[n].numpy())\n",
    "  print(\"Round-trip: \", \" \".join(vocab[encoded_example[n]]))\n",
    "  print()"
   ]
  },
  {
   "cell_type": "markdown",
   "metadata": {
    "id": "bjUqGVBxGw-t"
   },
   "source": [
    "## Create the model"
   ]
  },
  {
   "cell_type": "markdown",
   "metadata": {
    "id": "W7zsmInBOCPO"
   },
   "source": [
    "![A drawing of the information flow in the model](images/bidirectional.png)"
   ]
  },
  {
   "cell_type": "markdown",
   "metadata": {
    "id": "bgs6nnSTGw-t"
   },
   "source": [
    "Above is a diagram of the model. \n",
    "\n",
    "1. This model can be build as a `tf.keras.Sequential`.\n",
    "\n",
    "1. The first layer is the `encoder`, which converts the text to a sequence of token indices.\n",
    "\n",
    "2. After the encoder is an embedding layer. An embedding layer stores one vector per word. When called, it converts the sequences of word indices to sequences of vectors. These vectors are trainable. After training (on enough data), words with similar meanings often have similar vectors.\n",
    "\n",
    "  This index-lookup is much more efficient than the equivalent operation of passing a one-hot encoded vector through a `tf.keras.layers.Dense` layer.\n",
    "\n",
    "3. A recurrent neural network (RNN) processes sequence input by iterating through the elements. RNNs pass the outputs from one timestep to their input on the next timestep.\n",
    "\n",
    "  The `tf.keras.layers.Bidirectional` wrapper can also be used with an RNN layer. This propagates the input forward and backwards through the RNN layer and then concatenates the final output. \n",
    "\n",
    "  * The main advantage to a bidirectional RNN is that the signal from the beginning of the input doesn't need to be processed all the way through every timestep to affect the output.  \n",
    "\n",
    "  * The main disadvantage of a bidirectional RNN is that you can't efficiently stream predictions as words are being added to the end.\n",
    "\n",
    "1. After the RNN has converted the sequence to a single vector the two `layers.Dense` do some final processing, and convert from this vector representation to a single logit as the classification output. \n"
   ]
  },
  {
   "cell_type": "markdown",
   "metadata": {
    "id": "V4fodCI7soQi"
   },
   "source": [
    "The code to implement this is below:"
   ]
  },
  {
   "cell_type": "code",
   "execution_count": 68,
   "metadata": {
    "execution": {
     "iopub.execute_input": "2020-11-10T02:41:24.121725Z",
     "iopub.status.busy": "2020-11-10T02:41:24.121038Z",
     "iopub.status.idle": "2020-11-10T02:41:24.155014Z",
     "shell.execute_reply": "2020-11-10T02:41:24.154269Z"
    },
    "id": "LwfoBkmRYcP3"
   },
   "outputs": [],
   "source": [
    "model = tf.keras.Sequential([\n",
    "    encoder,\n",
    "    tf.keras.layers.Embedding(\n",
    "        input_dim=len(encoder.get_vocabulary()),\n",
    "        output_dim=64,\n",
    "        # Use masking to handle the variable sequence lengths\n",
    "        mask_zero=True),\n",
    "    tf.keras.layers.Bidirectional(tf.keras.layers.LSTM(64)),\n",
    "    tf.keras.layers.Dense(64, activation='relu'),\n",
    "    tf.keras.layers.Dense(1)\n",
    "])"
   ]
  },
  {
   "cell_type": "markdown",
   "metadata": {
    "id": "QIGmIGkkouUb"
   },
   "source": [
    "Please note that Keras sequential model is used here since all the layers in the model only have single input and produce single output. In case you want to use stateful RNN layer, you might want to build your model with Keras functional API or model subclassing so that you can retrieve and reuse the RNN layer states. Please check [Keras RNN guide](https://www.tensorflow.org/guide/keras/rnn#rnn_state_reuse) for more details."
   ]
  },
  {
   "cell_type": "markdown",
   "metadata": {
    "id": "kF-PsCk1LwjY"
   },
   "source": [
    "The embedding layer [uses masking](../../guide/keras/masking_and_padding) to handle the varying sequence-lengths. All the layers after the `Embedding` support masking:"
   ]
  },
  {
   "cell_type": "code",
   "execution_count": 69,
   "metadata": {
    "execution": {
     "iopub.execute_input": "2020-11-10T02:41:24.159987Z",
     "iopub.status.busy": "2020-11-10T02:41:24.159256Z",
     "iopub.status.idle": "2020-11-10T02:41:24.161963Z",
     "shell.execute_reply": "2020-11-10T02:41:24.162462Z"
    },
    "id": "87a8-CwfKebw"
   },
   "outputs": [
    {
     "name": "stdout",
     "output_type": "stream",
     "text": [
      "[False, True, True, True, True]\n"
     ]
    }
   ],
   "source": [
    "print([layer.supports_masking for layer in model.layers])"
   ]
  },
  {
   "cell_type": "markdown",
   "metadata": {
    "id": "ZlS0iaUIWLpI"
   },
   "source": [
    "To confirm that this works as expected, evaluate a sentence twice. First, alone so there's no padding to mask:"
   ]
  },
  {
   "cell_type": "code",
   "execution_count": 70,
   "metadata": {
    "execution": {
     "iopub.execute_input": "2020-11-10T02:41:24.168072Z",
     "iopub.status.busy": "2020-11-10T02:41:24.167320Z",
     "iopub.status.idle": "2020-11-10T02:41:30.445114Z",
     "shell.execute_reply": "2020-11-10T02:41:30.444586Z"
    },
    "id": "O41gw3KfWHus"
   },
   "outputs": [
    {
     "name": "stdout",
     "output_type": "stream",
     "text": [
      "[-0.00817871]\n"
     ]
    }
   ],
   "source": [
    "# predict on a sample text without padding.\n",
    "\n",
    "sample_text = ('Republicans lack agreement on Obamacare ahead of Trump speech')\n",
    "predictions = model.predict(np.array([sample_text]))\n",
    "print(predictions[0])"
   ]
  },
  {
   "cell_type": "markdown",
   "metadata": {
    "id": "K0VQmGnEWcuz"
   },
   "source": [
    "Now, evaluate it again in a batch with a longer sentence. The result should be identical:"
   ]
  },
  {
   "cell_type": "code",
   "execution_count": 71,
   "metadata": {
    "execution": {
     "iopub.execute_input": "2020-11-10T02:41:30.450463Z",
     "iopub.status.busy": "2020-11-10T02:41:30.449801Z",
     "iopub.status.idle": "2020-11-10T02:41:30.541207Z",
     "shell.execute_reply": "2020-11-10T02:41:30.540660Z"
    },
    "id": "UIgpuTeFNDzq"
   },
   "outputs": [
    {
     "name": "stdout",
     "output_type": "stream",
     "text": [
      "[-0.00817871]\n"
     ]
    }
   ],
   "source": [
    "# predict on a sample text with padding\n",
    "\n",
    "padding = \"the \" * 2000\n",
    "predictions = model.predict(np.array([sample_text, padding]))\n",
    "print(predictions[0])"
   ]
  },
  {
   "cell_type": "markdown",
   "metadata": {
    "id": "sRI776ZcH3Tf"
   },
   "source": [
    "Compile the Keras model to configure the training process:"
   ]
  },
  {
   "cell_type": "code",
   "execution_count": 72,
   "metadata": {
    "execution": {
     "iopub.execute_input": "2020-11-10T02:41:30.554797Z",
     "iopub.status.busy": "2020-11-10T02:41:30.550154Z",
     "iopub.status.idle": "2020-11-10T02:41:30.564894Z",
     "shell.execute_reply": "2020-11-10T02:41:30.564371Z"
    },
    "id": "kj2xei41YZjC"
   },
   "outputs": [],
   "source": [
    "model.compile(loss=tf.keras.losses.BinaryCrossentropy(from_logits=True),\n",
    "              optimizer=tf.keras.optimizers.Adam(1e-4),\n",
    "              metrics=['accuracy'])"
   ]
  },
  {
   "cell_type": "markdown",
   "metadata": {
    "id": "zIwH3nto596k"
   },
   "source": [
    "## Train the model"
   ]
  },
  {
   "cell_type": "code",
   "execution_count": 73,
   "metadata": {
    "execution": {
     "iopub.execute_input": "2020-11-10T02:41:30.569722Z",
     "iopub.status.busy": "2020-11-10T02:41:30.569003Z",
     "iopub.status.idle": "2020-11-10T02:46:26.216444Z",
     "shell.execute_reply": "2020-11-10T02:46:26.215764Z"
    },
    "id": "hw86wWS4YgR2"
   },
   "outputs": [
    {
     "name": "stdout",
     "output_type": "stream",
     "text": [
      "Epoch 1/10\n",
      "26/26 [==============================] - 2s 89ms/step - loss: 0.6929 - accuracy: 0.5074 - val_loss: 0.6916 - val_accuracy: 0.5063\n",
      "Epoch 2/10\n",
      "26/26 [==============================] - 0s 13ms/step - loss: 0.6901 - accuracy: 0.5074 - val_loss: 0.6897 - val_accuracy: 0.5125\n",
      "Epoch 3/10\n",
      "26/26 [==============================] - 0s 13ms/step - loss: 0.6863 - accuracy: 0.5074 - val_loss: 0.6861 - val_accuracy: 0.5125\n",
      "Epoch 4/10\n",
      "26/26 [==============================] - 0s 13ms/step - loss: 0.6799 - accuracy: 0.5074 - val_loss: 0.6790 - val_accuracy: 0.5125\n",
      "Epoch 5/10\n",
      "26/26 [==============================] - 0s 13ms/step - loss: 0.6683 - accuracy: 0.5074 - val_loss: 0.6680 - val_accuracy: 0.5063\n",
      "Epoch 6/10\n",
      "26/26 [==============================] - 0s 13ms/step - loss: 0.6462 - accuracy: 0.5074 - val_loss: 0.6481 - val_accuracy: 0.4938\n",
      "Epoch 7/10\n",
      "26/26 [==============================] - 0s 14ms/step - loss: 0.6013 - accuracy: 0.5074 - val_loss: 0.5990 - val_accuracy: 0.5125\n",
      "Epoch 8/10\n",
      "26/26 [==============================] - 0s 13ms/step - loss: 0.5110 - accuracy: 0.5099 - val_loss: 0.5077 - val_accuracy: 0.5562\n",
      "Epoch 9/10\n",
      "26/26 [==============================] - 0s 14ms/step - loss: 0.3594 - accuracy: 0.8168 - val_loss: 0.3715 - val_accuracy: 0.8750\n",
      "Epoch 10/10\n",
      "26/26 [==============================] - 0s 14ms/step - loss: 0.1944 - accuracy: 0.9703 - val_loss: 0.2984 - val_accuracy: 0.9187\n"
     ]
    }
   ],
   "source": [
    "history = model.fit(train_dataset, epochs=10,\n",
    "                    validation_data=test_dataset, #testdataset required\n",
    "                    validation_steps=10)"
   ]
  },
  {
   "cell_type": "code",
   "execution_count": 74,
   "metadata": {
    "execution": {
     "iopub.execute_input": "2020-11-10T02:46:26.221163Z",
     "iopub.status.busy": "2020-11-10T02:46:26.220456Z",
     "iopub.status.idle": "2020-11-10T02:46:40.248236Z",
     "shell.execute_reply": "2020-11-10T02:46:40.247723Z"
    },
    "id": "BaNbXi43YgUT"
   },
   "outputs": [
    {
     "name": "stdout",
     "output_type": "stream",
     "text": [
      "26/26 [==============================] - 0s 8ms/step - loss: 0.1269 - accuracy: 0.9827\n",
      "Test Loss: 0.12694332003593445\n",
      "Test Accuracy: 0.9826732873916626\n"
     ]
    }
   ],
   "source": [
    "test_loss, test_acc = model.evaluate(train_dataset) # test_dataset required\n",
    "\n",
    "print('Test Loss: {}'.format(test_loss))\n",
    "print('Test Accuracy: {}'.format(test_acc))"
   ]
  },
  {
   "cell_type": "code",
   "execution_count": 75,
   "metadata": {
    "execution": {
     "iopub.execute_input": "2020-11-10T02:46:40.264945Z",
     "iopub.status.busy": "2020-11-10T02:46:40.264379Z",
     "iopub.status.idle": "2020-11-10T02:46:40.521014Z",
     "shell.execute_reply": "2020-11-10T02:46:40.521489Z"
    },
    "id": "OZmwt_mzaQJk"
   },
   "outputs": [
    {
     "data": {
      "text/plain": [
       "(0.0, 0.7178374208509922)"
      ]
     },
     "execution_count": 75,
     "metadata": {},
     "output_type": "execute_result"
    },
    {
     "data": {
      "image/png": "[encoded data removed]",
      "text/plain": [
       "<Figure size 1152x576 with 2 Axes>"
      ]
     },
     "metadata": {
      "needs_background": "light"
     },
     "output_type": "display_data"
    }
   ],
   "source": [
    "plt.figure(figsize=(16,8))\n",
    "plt.subplot(1,2,1)\n",
    "plot_graphs(history, 'accuracy')\n",
    "plt.ylim(None,1)\n",
    "plt.subplot(1,2,2)\n",
    "plot_graphs(history, 'loss')\n",
    "plt.ylim(0,None)"
   ]
  },
  {
   "cell_type": "markdown",
   "metadata": {
    "id": "DwSE_386uhxD"
   },
   "source": [
    "Run a prediction on a neew sentence:\n",
    "\n",
    "If the prediction is >= 0.0, it is positive else it is negative."
   ]
  },
  {
   "cell_type": "code",
   "execution_count": 76,
   "metadata": {
    "execution": {
     "iopub.execute_input": "2020-11-10T02:46:40.526310Z",
     "iopub.status.busy": "2020-11-10T02:46:40.525618Z",
     "iopub.status.idle": "2020-11-10T02:46:42.527252Z",
     "shell.execute_reply": "2020-11-10T02:46:42.527710Z"
    },
    "id": "ZXgfQSgRW6zU"
   },
   "outputs": [
    {
     "name": "stdout",
     "output_type": "stream",
     "text": [
      "[[ 1.0248266]\n",
      " [-0.7582209]]\n"
     ]
    }
   ],
   "source": [
    "# predict on a sample text without padding.\n",
    "\n",
    "sample_text1 = ('White House, Congress Republicans nearing key tax overhaul decisions')\n",
    "sample_text2 = ('Democrats Hope Sunday Obamacare Rallies Can Help Them Regain Momentum ')\n",
    "\n",
    "predictions = model.predict(np.array([sample_text1, sample_text2]))\n",
    "print(predictions)"
   ]
  },
  {
   "cell_type": "markdown",
   "metadata": {
    "id": "7g1evcaRpTKm"
   },
   "source": [
    "## Stack two or more LSTM layers\n",
    "\n",
    "Keras recurrent layers have two available modes that are controlled by the `return_sequences` constructor argument:\n",
    "\n",
    "* If `False` it returns only the last output for each input sequence (a 2D tensor of shape (batch_size, output_features)). This is the default, used in the previous model.\n",
    "\n",
    "* If `True` the full sequences of successive outputs for each timestep is returned (a 3D tensor of shape `(batch_size, timesteps, output_features)`).\n",
    "\n",
    "Here is what the flow of information looks like with `return_sequences=True`:\n",
    "\n",
    "![layered_bidirectional](images/layered_bidirectional.ipynb)"
   ]
  },
  {
   "cell_type": "markdown",
   "metadata": {
    "id": "wbSClCrG1z8l"
   },
   "source": [
    "The interesting thing about using an `RNN` with `return_sequences=True` is that the output still has 3-axes, like the input, so it can be passed to another RNN layer, like this:"
   ]
  },
  {
   "cell_type": "code",
   "execution_count": 77,
   "metadata": {
    "execution": {
     "iopub.execute_input": "2020-11-10T02:46:42.534213Z",
     "iopub.status.busy": "2020-11-10T02:46:42.533583Z",
     "iopub.status.idle": "2020-11-10T02:46:42.567937Z",
     "shell.execute_reply": "2020-11-10T02:46:42.568400Z"
    },
    "id": "jo1jjO3vn0jo"
   },
   "outputs": [],
   "source": [
    "model = tf.keras.Sequential([\n",
    "    encoder,\n",
    "    tf.keras.layers.Embedding(len(encoder.get_vocabulary()), 64, mask_zero=True),\n",
    "    tf.keras.layers.Bidirectional(tf.keras.layers.LSTM(64,  return_sequences=True)),\n",
    "    tf.keras.layers.Bidirectional(tf.keras.layers.LSTM(32)),\n",
    "    tf.keras.layers.Dense(64, activation='relu'),\n",
    "    tf.keras.layers.Dropout(0.5),\n",
    "    tf.keras.layers.Dense(1)\n",
    "])"
   ]
  },
  {
   "cell_type": "code",
   "execution_count": 78,
   "metadata": {
    "execution": {
     "iopub.execute_input": "2020-11-10T02:46:42.577925Z",
     "iopub.status.busy": "2020-11-10T02:46:42.577110Z",
     "iopub.status.idle": "2020-11-10T02:46:42.582184Z",
     "shell.execute_reply": "2020-11-10T02:46:42.581663Z"
    },
    "id": "hEPV5jVGp-is"
   },
   "outputs": [],
   "source": [
    "model.compile(loss=tf.keras.losses.BinaryCrossentropy(from_logits=True),\n",
    "              optimizer=tf.keras.optimizers.Adam(1e-4),\n",
    "              metrics=['accuracy'])"
   ]
  },
  {
   "cell_type": "code",
   "execution_count": 79,
   "metadata": {
    "execution": {
     "iopub.execute_input": "2020-11-10T02:46:42.586619Z",
     "iopub.status.busy": "2020-11-10T02:46:42.585854Z",
     "iopub.status.idle": "2020-11-10T02:55:26.734344Z",
     "shell.execute_reply": "2020-11-10T02:55:26.733842Z"
    },
    "id": "LeSE-YjdqAeN"
   },
   "outputs": [
    {
     "name": "stdout",
     "output_type": "stream",
     "text": [
      "Epoch 1/10\n",
      "25/26 [===========================>..] - ETA: 0s - loss: 0.6924 - accuracy: 0.5075WARNING:tensorflow:Your input ran out of data; interrupting training. Make sure that your dataset or generator can generate at least `steps_per_epoch * epochs` batches (in this case, 30 batches). You may need to use the repeat() function when building your dataset.\n",
      "26/26 [==============================] - 5s 188ms/step - loss: 0.6924 - accuracy: 0.5074 - val_loss: 0.6915 - val_accuracy: 0.5086\n",
      "Epoch 2/10\n",
      "26/26 [==============================] - 1s 25ms/step - loss: 0.6897 - accuracy: 0.5074\n",
      "Epoch 3/10\n",
      "26/26 [==============================] - 1s 23ms/step - loss: 0.6855 - accuracy: 0.5074\n",
      "Epoch 4/10\n",
      "26/26 [==============================] - 1s 27ms/step - loss: 0.6746 - accuracy: 0.5074\n",
      "Epoch 5/10\n",
      "26/26 [==============================] - 1s 20ms/step - loss: 0.6514 - accuracy: 0.5074\n",
      "Epoch 6/10\n",
      "26/26 [==============================] - 1s 20ms/step - loss: 0.5977 - accuracy: 0.5594\n",
      "Epoch 7/10\n",
      "26/26 [==============================] - 0s 19ms/step - loss: 0.4915 - accuracy: 0.8614\n",
      "Epoch 8/10\n",
      "26/26 [==============================] - 1s 19ms/step - loss: 0.3338 - accuracy: 0.9629\n",
      "Epoch 9/10\n",
      "26/26 [==============================] - 0s 19ms/step - loss: 0.1829 - accuracy: 0.9752\n",
      "Epoch 10/10\n",
      "26/26 [==============================] - 1s 20ms/step - loss: 0.1001 - accuracy: 0.9777\n"
     ]
    }
   ],
   "source": [
    "history = model.fit(train_dataset, epochs=10,\n",
    "                    validation_data=test_dataset,\n",
    "                    validation_steps=30)"
   ]
  },
  {
   "cell_type": "code",
   "execution_count": 80,
   "metadata": {
    "execution": {
     "iopub.execute_input": "2020-11-10T02:55:26.739395Z",
     "iopub.status.busy": "2020-11-10T02:55:26.738758Z",
     "iopub.status.idle": "2020-11-10T02:55:49.278955Z",
     "shell.execute_reply": "2020-11-10T02:55:49.278459Z"
    },
    "id": "_LdwilM1qPM3"
   },
   "outputs": [
    {
     "name": "stdout",
     "output_type": "stream",
     "text": [
      "26/26 [==============================] - 0s 5ms/step - loss: 0.0711 - accuracy: 0.9802\n",
      "Test Loss: 0.07110126316547394\n",
      "Test Accuracy: 0.9801980257034302\n"
     ]
    }
   ],
   "source": [
    "test_loss, test_acc = model.evaluate(train_dataset)\n",
    "\n",
    "print('Test Loss: {}'.format(test_loss))\n",
    "print('Test Accuracy: {}'.format(test_acc))"
   ]
  },
  {
   "cell_type": "code",
   "execution_count": 81,
   "metadata": {
    "execution": {
     "iopub.execute_input": "2020-11-10T02:55:49.283124Z",
     "iopub.status.busy": "2020-11-10T02:55:49.282565Z",
     "iopub.status.idle": "2020-11-10T02:55:52.660057Z",
     "shell.execute_reply": "2020-11-10T02:55:52.659600Z"
    },
    "id": "ykUKnAoqbycW"
   },
   "outputs": [
    {
     "name": "stdout",
     "output_type": "stream",
     "text": [
      "[[ 0.9013078]\n",
      " [-3.6422565]]\n"
     ]
    }
   ],
   "source": [
    "# predict on a sample text without padding.\n",
    "\n",
    "sample_text1 = ('White House, Congress Republicans nearing key tax overhaul decisions')\n",
    "sample_text2 = ('Democrats Hope Sunday Obamacare Rallies Can Help Them Regain Momentum ')\n",
    "\n",
    "predictions = model.predict(np.array([sample_text1, sample_text2]))\n",
    "print(predictions)"
   ]
  },
  {
   "cell_type": "code",
   "execution_count": 82,
   "metadata": {
    "execution": {
     "iopub.execute_input": "2020-11-10T02:55:52.676955Z",
     "iopub.status.busy": "2020-11-10T02:55:52.676383Z",
     "iopub.status.idle": "2020-11-10T02:55:52.899997Z",
     "shell.execute_reply": "2020-11-10T02:55:52.899421Z"
    },
    "id": "_YYub0EDtwCu"
   },
   "outputs": [
    {
     "data": {
      "image/png": "[encoded data removed]",
      "text/plain": [
       "<Figure size 1152x432 with 2 Axes>"
      ]
     },
     "metadata": {
      "needs_background": "light"
     },
     "output_type": "display_data"
    }
   ],
   "source": [
    "plt.figure(figsize=(16,6))\n",
    "plt.subplot(1,2,1)\n",
    "plot_graphs(history, 'accuracy')\n",
    "plt.subplot(1,2,2)\n",
    "plot_graphs(history, 'loss')"
   ]
  },
  {
   "cell_type": "markdown",
   "metadata": {
    "id": "9xvpE3BaGw_V"
   },
   "source": [
    "Check out other existing recurrent layers such as [GRU layers](https://www.tensorflow.org/api_docs/python/tf/keras/layers/GRU).\n",
    "\n",
    "If you're interestied in building custom RNNs, see the [Keras RNN Guide](../../guide/keras/rnn.ipynb).\n"
   ]
  }
 ],
 "metadata": {
  "accelerator": "GPU",
  "colab": {
   "collapsed_sections": [],
   "name": "text_classification_rnn.ipynb",
   "toc_visible": true
  },
  "kernelspec": {
   "display_name": "Python 3",
   "language": "python",
   "name": "python3"
  },
  "language_info": {
   "codemirror_mode": {
    "name": "ipython",
    "version": 3
   },
   "file_extension": ".py",
   "mimetype": "text/x-python",
   "name": "python",
   "nbconvert_exporter": "python",
   "pygments_lexer": "ipython3",
   "version": "3.8.5"
  }
 },
 "nbformat": 4,
 "nbformat_minor": 1
}
